{
  "nbformat": 4,
  "nbformat_minor": 0,
  "metadata": {
    "colab": {
      "provenance": [],
      "gpuType": "T4"
    },
    "kernelspec": {
      "name": "python3",
      "display_name": "Python 3"
    },
    "language_info": {
      "name": "python"
    },
    "accelerator": "GPU"
  },
  "cells": [
    {
      "cell_type": "markdown",
      "source": [
        "## Step 1:Install dependencies Python\n"
      ],
      "metadata": {
        "id": "ReBEHYf54in4"
      }
    },
    {
      "cell_type": "code",
      "source": [
        "# !pip install kenlm\n",
        "# !pip install pyctcdecode"
      ],
      "metadata": {
        "colab": {
          "base_uri": "https://localhost:8080/"
        },
        "id": "3r5UYdn39SC6",
        "outputId": "10a15d2c-15a4-43c1-da06-41451b6fb6d5"
      },
      "execution_count": null,
      "outputs": [
        {
          "output_type": "stream",
          "name": "stdout",
          "text": [
            "Requirement already satisfied: kenlm in /usr/local/lib/python3.11/dist-packages (0.3.0)\n",
            "Requirement already satisfied: pyctcdecode in /usr/local/lib/python3.11/dist-packages (0.5.0)\n",
            "Requirement already satisfied: numpy<2.0.0,>=1.15.0 in /usr/local/lib/python3.11/dist-packages (from pyctcdecode) (1.26.4)\n",
            "Requirement already satisfied: pygtrie<3.0,>=2.1 in /usr/local/lib/python3.11/dist-packages (from pyctcdecode) (2.5.0)\n",
            "Requirement already satisfied: hypothesis<7,>=6.14 in /usr/local/lib/python3.11/dist-packages (from pyctcdecode) (6.135.22)\n",
            "Requirement already satisfied: attrs>=22.2.0 in /usr/local/lib/python3.11/dist-packages (from hypothesis<7,>=6.14->pyctcdecode) (25.3.0)\n",
            "Requirement already satisfied: sortedcontainers<3.0.0,>=2.1.0 in /usr/local/lib/python3.11/dist-packages (from hypothesis<7,>=6.14->pyctcdecode) (2.4.0)\n"
          ]
        }
      ]
    },
    {
      "cell_type": "code",
      "metadata": {
        "colab": {
          "base_uri": "https://localhost:8080/"
        },
        "id": "fc2165f8",
        "outputId": "5f857513-93b2-4e21-d34b-f29935faf425"
      },
      "source": [
        "# !pip install pydub"
      ],
      "execution_count": null,
      "outputs": [
        {
          "output_type": "stream",
          "name": "stdout",
          "text": [
            "Requirement already satisfied: pydub in /usr/local/lib/python3.11/dist-packages (0.25.1)\n"
          ]
        }
      ]
    },
    {
      "cell_type": "code",
      "execution_count": null,
      "metadata": {
        "colab": {
          "base_uri": "https://localhost:8080/"
        },
        "id": "II-kXd91x_Gv",
        "outputId": "325a12c0-f4c7-44a1-c3be-2e7111747c2f"
      },
      "outputs": [
        {
          "output_type": "stream",
          "name": "stdout",
          "text": [
            "Requirement already satisfied: jiwer in /usr/local/lib/python3.11/dist-packages (4.0.0)\n",
            "Requirement already satisfied: soundfile in /usr/local/lib/python3.11/dist-packages (0.13.1)\n",
            "Requirement already satisfied: gdown in /usr/local/lib/python3.11/dist-packages (5.2.0)\n",
            "Requirement already satisfied: click>=8.1.8 in /usr/local/lib/python3.11/dist-packages (from jiwer) (8.2.1)\n",
            "Requirement already satisfied: rapidfuzz>=3.9.7 in /usr/local/lib/python3.11/dist-packages (from jiwer) (3.13.0)\n",
            "Requirement already satisfied: cffi>=1.0 in /usr/local/lib/python3.11/dist-packages (from soundfile) (1.17.1)\n",
            "Requirement already satisfied: numpy in /usr/local/lib/python3.11/dist-packages (from soundfile) (2.0.2)\n",
            "Requirement already satisfied: beautifulsoup4 in /usr/local/lib/python3.11/dist-packages (from gdown) (4.13.4)\n",
            "Requirement already satisfied: filelock in /usr/local/lib/python3.11/dist-packages (from gdown) (3.18.0)\n",
            "Requirement already satisfied: requests[socks] in /usr/local/lib/python3.11/dist-packages (from gdown) (2.32.3)\n",
            "Requirement already satisfied: tqdm in /usr/local/lib/python3.11/dist-packages (from gdown) (4.67.1)\n",
            "Requirement already satisfied: pycparser in /usr/local/lib/python3.11/dist-packages (from cffi>=1.0->soundfile) (2.22)\n",
            "Requirement already satisfied: soupsieve>1.2 in /usr/local/lib/python3.11/dist-packages (from beautifulsoup4->gdown) (2.7)\n",
            "Requirement already satisfied: typing-extensions>=4.0.0 in /usr/local/lib/python3.11/dist-packages (from beautifulsoup4->gdown) (4.14.1)\n",
            "Requirement already satisfied: charset-normalizer<4,>=2 in /usr/local/lib/python3.11/dist-packages (from requests[socks]->gdown) (3.4.2)\n",
            "Requirement already satisfied: idna<4,>=2.5 in /usr/local/lib/python3.11/dist-packages (from requests[socks]->gdown) (3.10)\n",
            "Requirement already satisfied: urllib3<3,>=1.21.1 in /usr/local/lib/python3.11/dist-packages (from requests[socks]->gdown) (2.4.0)\n",
            "Requirement already satisfied: certifi>=2017.4.17 in /usr/local/lib/python3.11/dist-packages (from requests[socks]->gdown) (2025.7.9)\n",
            "Requirement already satisfied: PySocks!=1.5.7,>=1.5.6 in /usr/local/lib/python3.11/dist-packages (from requests[socks]->gdown) (1.7.1)\n"
          ]
        }
      ],
      "source": [
        "!pip install jiwer soundfile gdown\n",
        "#!pip install -U transformers\n",
        "#!pip install torch"
      ]
    },
    {
      "cell_type": "markdown",
      "source": [
        "## Step 2: Import libraries"
      ],
      "metadata": {
        "id": "YxqLDDApyPA4"
      }
    },
    {
      "cell_type": "code",
      "source": [
        "import pandas as pd\n",
        "import soundfile as sf\n",
        "import torch\n",
        "#from transformers import pipeline\n",
        "#from jiwer import wer, cer\n",
        "from google.colab import files\n",
        "import tempfile\n",
        "import os\n",
        "import numpy as np"
      ],
      "metadata": {
        "id": "3vtke7C9yUex"
      },
      "execution_count": 3,
      "outputs": []
    },
    {
      "cell_type": "markdown",
      "source": [
        "## Step 3: Upload audio files"
      ],
      "metadata": {
        "id": "HLwRfTYsyXLF"
      }
    },
    {
      "cell_type": "markdown",
      "source": [
        "### Manual Entering"
      ],
      "metadata": {
        "id": "dxpEgarhgVNC"
      }
    },
    {
      "cell_type": "code",
      "source": [
        "uploaded = files.upload()\n",
        "\n",
        "audio_files = []\n",
        "for file_name in uploaded.keys():\n",
        "    audio_files.append(file_name)\n",
        "\n",
        "print(\"Uploaded files:\", audio_files)\n"
      ],
      "metadata": {
        "colab": {
          "base_uri": "https://localhost:8080/",
          "height": 1000
        },
        "id": "fpg6RlGNyWaH",
        "outputId": "1d5904f2-15a0-48e3-b064-86a31cd1e416"
      },
      "execution_count": null,
      "outputs": [
        {
          "output_type": "display_data",
          "data": {
            "text/plain": [
              "<IPython.core.display.HTML object>"
            ],
            "text/html": [
              "\n",
              "     <input type=\"file\" id=\"files-f5e2d69c-e960-41d8-bc3e-471c9baecf1d\" name=\"files[]\" multiple disabled\n",
              "        style=\"border:none\" />\n",
              "     <output id=\"result-f5e2d69c-e960-41d8-bc3e-471c9baecf1d\">\n",
              "      Upload widget is only available when the cell has been executed in the\n",
              "      current browser session. Please rerun this cell to enable.\n",
              "      </output>\n",
              "      <script>// Copyright 2017 Google LLC\n",
              "//\n",
              "// Licensed under the Apache License, Version 2.0 (the \"License\");\n",
              "// you may not use this file except in compliance with the License.\n",
              "// You may obtain a copy of the License at\n",
              "//\n",
              "//      http://www.apache.org/licenses/LICENSE-2.0\n",
              "//\n",
              "// Unless required by applicable law or agreed to in writing, software\n",
              "// distributed under the License is distributed on an \"AS IS\" BASIS,\n",
              "// WITHOUT WARRANTIES OR CONDITIONS OF ANY KIND, either express or implied.\n",
              "// See the License for the specific language governing permissions and\n",
              "// limitations under the License.\n",
              "\n",
              "/**\n",
              " * @fileoverview Helpers for google.colab Python module.\n",
              " */\n",
              "(function(scope) {\n",
              "function span(text, styleAttributes = {}) {\n",
              "  const element = document.createElement('span');\n",
              "  element.textContent = text;\n",
              "  for (const key of Object.keys(styleAttributes)) {\n",
              "    element.style[key] = styleAttributes[key];\n",
              "  }\n",
              "  return element;\n",
              "}\n",
              "\n",
              "// Max number of bytes which will be uploaded at a time.\n",
              "const MAX_PAYLOAD_SIZE = 100 * 1024;\n",
              "\n",
              "function _uploadFiles(inputId, outputId) {\n",
              "  const steps = uploadFilesStep(inputId, outputId);\n",
              "  const outputElement = document.getElementById(outputId);\n",
              "  // Cache steps on the outputElement to make it available for the next call\n",
              "  // to uploadFilesContinue from Python.\n",
              "  outputElement.steps = steps;\n",
              "\n",
              "  return _uploadFilesContinue(outputId);\n",
              "}\n",
              "\n",
              "// This is roughly an async generator (not supported in the browser yet),\n",
              "// where there are multiple asynchronous steps and the Python side is going\n",
              "// to poll for completion of each step.\n",
              "// This uses a Promise to block the python side on completion of each step,\n",
              "// then passes the result of the previous step as the input to the next step.\n",
              "function _uploadFilesContinue(outputId) {\n",
              "  const outputElement = document.getElementById(outputId);\n",
              "  const steps = outputElement.steps;\n",
              "\n",
              "  const next = steps.next(outputElement.lastPromiseValue);\n",
              "  return Promise.resolve(next.value.promise).then((value) => {\n",
              "    // Cache the last promise value to make it available to the next\n",
              "    // step of the generator.\n",
              "    outputElement.lastPromiseValue = value;\n",
              "    return next.value.response;\n",
              "  });\n",
              "}\n",
              "\n",
              "/**\n",
              " * Generator function which is called between each async step of the upload\n",
              " * process.\n",
              " * @param {string} inputId Element ID of the input file picker element.\n",
              " * @param {string} outputId Element ID of the output display.\n",
              " * @return {!Iterable<!Object>} Iterable of next steps.\n",
              " */\n",
              "function* uploadFilesStep(inputId, outputId) {\n",
              "  const inputElement = document.getElementById(inputId);\n",
              "  inputElement.disabled = false;\n",
              "\n",
              "  const outputElement = document.getElementById(outputId);\n",
              "  outputElement.innerHTML = '';\n",
              "\n",
              "  const pickedPromise = new Promise((resolve) => {\n",
              "    inputElement.addEventListener('change', (e) => {\n",
              "      resolve(e.target.files);\n",
              "    });\n",
              "  });\n",
              "\n",
              "  const cancel = document.createElement('button');\n",
              "  inputElement.parentElement.appendChild(cancel);\n",
              "  cancel.textContent = 'Cancel upload';\n",
              "  const cancelPromise = new Promise((resolve) => {\n",
              "    cancel.onclick = () => {\n",
              "      resolve(null);\n",
              "    };\n",
              "  });\n",
              "\n",
              "  // Wait for the user to pick the files.\n",
              "  const files = yield {\n",
              "    promise: Promise.race([pickedPromise, cancelPromise]),\n",
              "    response: {\n",
              "      action: 'starting',\n",
              "    }\n",
              "  };\n",
              "\n",
              "  cancel.remove();\n",
              "\n",
              "  // Disable the input element since further picks are not allowed.\n",
              "  inputElement.disabled = true;\n",
              "\n",
              "  if (!files) {\n",
              "    return {\n",
              "      response: {\n",
              "        action: 'complete',\n",
              "      }\n",
              "    };\n",
              "  }\n",
              "\n",
              "  for (const file of files) {\n",
              "    const li = document.createElement('li');\n",
              "    li.append(span(file.name, {fontWeight: 'bold'}));\n",
              "    li.append(span(\n",
              "        `(${file.type || 'n/a'}) - ${file.size} bytes, ` +\n",
              "        `last modified: ${\n",
              "            file.lastModifiedDate ? file.lastModifiedDate.toLocaleDateString() :\n",
              "                                    'n/a'} - `));\n",
              "    const percent = span('0% done');\n",
              "    li.appendChild(percent);\n",
              "\n",
              "    outputElement.appendChild(li);\n",
              "\n",
              "    const fileDataPromise = new Promise((resolve) => {\n",
              "      const reader = new FileReader();\n",
              "      reader.onload = (e) => {\n",
              "        resolve(e.target.result);\n",
              "      };\n",
              "      reader.readAsArrayBuffer(file);\n",
              "    });\n",
              "    // Wait for the data to be ready.\n",
              "    let fileData = yield {\n",
              "      promise: fileDataPromise,\n",
              "      response: {\n",
              "        action: 'continue',\n",
              "      }\n",
              "    };\n",
              "\n",
              "    // Use a chunked sending to avoid message size limits. See b/62115660.\n",
              "    let position = 0;\n",
              "    do {\n",
              "      const length = Math.min(fileData.byteLength - position, MAX_PAYLOAD_SIZE);\n",
              "      const chunk = new Uint8Array(fileData, position, length);\n",
              "      position += length;\n",
              "\n",
              "      const base64 = btoa(String.fromCharCode.apply(null, chunk));\n",
              "      yield {\n",
              "        response: {\n",
              "          action: 'append',\n",
              "          file: file.name,\n",
              "          data: base64,\n",
              "        },\n",
              "      };\n",
              "\n",
              "      let percentDone = fileData.byteLength === 0 ?\n",
              "          100 :\n",
              "          Math.round((position / fileData.byteLength) * 100);\n",
              "      percent.textContent = `${percentDone}% done`;\n",
              "\n",
              "    } while (position < fileData.byteLength);\n",
              "  }\n",
              "\n",
              "  // All done.\n",
              "  yield {\n",
              "    response: {\n",
              "      action: 'complete',\n",
              "    }\n",
              "  };\n",
              "}\n",
              "\n",
              "scope.google = scope.google || {};\n",
              "scope.google.colab = scope.google.colab || {};\n",
              "scope.google.colab._files = {\n",
              "  _uploadFiles,\n",
              "  _uploadFilesContinue,\n",
              "};\n",
              "})(self);\n",
              "</script> "
            ]
          },
          "metadata": {}
        },
        {
          "output_type": "stream",
          "name": "stdout",
          "text": [
            "Saving common_voice_bn_41976672.mp3 to common_voice_bn_41976672.mp3\n",
            "Saving common_voice_bn_41976673.mp3 to common_voice_bn_41976673.mp3\n",
            "Saving common_voice_bn_41976674.mp3 to common_voice_bn_41976674.mp3\n",
            "Saving common_voice_bn_41976675.mp3 to common_voice_bn_41976675.mp3\n",
            "Saving common_voice_bn_41976676.mp3 to common_voice_bn_41976676.mp3\n",
            "Saving common_voice_bn_42000065.mp3 to common_voice_bn_42000065.mp3\n",
            "Saving common_voice_bn_42027111.mp3 to common_voice_bn_42027111.mp3\n",
            "Saving common_voice_bn_42027112.mp3 to common_voice_bn_42027112.mp3\n",
            "Saving common_voice_bn_42027115.mp3 to common_voice_bn_42027115.mp3\n",
            "Saving common_voice_bn_42027118.mp3 to common_voice_bn_42027118.mp3\n",
            "Saving common_voice_bn_42027120.mp3 to common_voice_bn_42027120.mp3\n",
            "Saving common_voice_bn_42027132.mp3 to common_voice_bn_42027132.mp3\n",
            "Saving common_voice_bn_42027133.mp3 to common_voice_bn_42027133.mp3\n",
            "Saving common_voice_bn_42027134.mp3 to common_voice_bn_42027134.mp3\n",
            "Saving common_voice_bn_42027135.mp3 to common_voice_bn_42027135.mp3\n",
            "Saving common_voice_bn_42027136.mp3 to common_voice_bn_42027136.mp3\n",
            "Saving common_voice_bn_42199680.mp3 to common_voice_bn_42199680.mp3\n",
            "Saving common_voice_bn_42199682.mp3 to common_voice_bn_42199682.mp3\n",
            "Saving common_voice_bn_42199684.mp3 to common_voice_bn_42199684.mp3\n",
            "Saving common_voice_bn_42199686.mp3 to common_voice_bn_42199686.mp3\n",
            "Saving common_voice_bn_42199688.mp3 to common_voice_bn_42199688.mp3\n",
            "Saving common_voice_bn_42199782.mp3 to common_voice_bn_42199782.mp3\n",
            "Saving common_voice_bn_42199785.mp3 to common_voice_bn_42199785.mp3\n",
            "Saving common_voice_bn_42199787.mp3 to common_voice_bn_42199787.mp3\n",
            "Saving common_voice_bn_42199790.mp3 to common_voice_bn_42199790.mp3\n",
            "Saving common_voice_bn_42199792.mp3 to common_voice_bn_42199792.mp3\n",
            "Saving common_voice_bn_42199840.mp3 to common_voice_bn_42199840.mp3\n",
            "Saving common_voice_bn_42199841.mp3 to common_voice_bn_42199841.mp3\n",
            "Saving common_voice_bn_42199842.mp3 to common_voice_bn_42199842.mp3\n",
            "Saving common_voice_bn_42199843.mp3 to common_voice_bn_42199843.mp3\n",
            "Saving common_voice_bn_42199844.mp3 to common_voice_bn_42199844.mp3\n",
            "Saving common_voice_bn_42199875.mp3 to common_voice_bn_42199875.mp3\n",
            "Saving common_voice_bn_42199876.mp3 to common_voice_bn_42199876.mp3\n",
            "Saving common_voice_bn_42199877.mp3 to common_voice_bn_42199877.mp3\n",
            "Saving common_voice_bn_42199878.mp3 to common_voice_bn_42199878.mp3\n",
            "Saving common_voice_bn_42199880.mp3 to common_voice_bn_42199880.mp3\n",
            "Saving common_voice_bn_42199930.mp3 to common_voice_bn_42199930.mp3\n",
            "Saving common_voice_bn_42199931.mp3 to common_voice_bn_42199931.mp3\n",
            "Saving common_voice_bn_42199932.mp3 to common_voice_bn_42199932.mp3\n",
            "Saving common_voice_bn_42199933.mp3 to common_voice_bn_42199933.mp3\n",
            "Saving common_voice_bn_42199934.mp3 to common_voice_bn_42199934.mp3\n",
            "Saving common_voice_bn_42199985.mp3 to common_voice_bn_42199985.mp3\n",
            "Saving common_voice_bn_42199986.mp3 to common_voice_bn_42199986.mp3\n",
            "Saving common_voice_bn_42199987.mp3 to common_voice_bn_42199987.mp3\n",
            "Saving common_voice_bn_42199988.mp3 to common_voice_bn_42199988.mp3\n",
            "Saving common_voice_bn_42199989.mp3 to common_voice_bn_42199989.mp3\n",
            "Saving common_voice_bn_42208432.mp3 to common_voice_bn_42208432.mp3\n",
            "Saving common_voice_bn_42208433.mp3 to common_voice_bn_42208433.mp3\n",
            "Saving common_voice_bn_42208434.mp3 to common_voice_bn_42208434.mp3\n",
            "Saving common_voice_bn_42208435.mp3 to common_voice_bn_42208435.mp3\n",
            "Saving common_voice_bn_42208436.mp3 to common_voice_bn_42208436.mp3\n",
            "Saving common_voice_bn_42329407.mp3 to common_voice_bn_42329407.mp3\n",
            "Saving common_voice_bn_42329409.mp3 to common_voice_bn_42329409.mp3\n",
            "Saving common_voice_bn_42329410.mp3 to common_voice_bn_42329410.mp3\n",
            "Saving common_voice_bn_42329411.mp3 to common_voice_bn_42329411.mp3\n",
            "Saving common_voice_bn_42329413.mp3 to common_voice_bn_42329413.mp3\n",
            "Saving common_voice_bn_42452245.mp3 to common_voice_bn_42452245.mp3\n",
            "Saving common_voice_bn_42452247.mp3 to common_voice_bn_42452247.mp3\n",
            "Saving common_voice_bn_42452248.mp3 to common_voice_bn_42452248.mp3\n",
            "Saving common_voice_bn_42452249.mp3 to common_voice_bn_42452249.mp3\n",
            "Saving common_voice_bn_42550678.mp3 to common_voice_bn_42550678.mp3\n",
            "Saving common_voice_bn_42550679.mp3 to common_voice_bn_42550679.mp3\n",
            "Saving common_voice_bn_42550680.mp3 to common_voice_bn_42550680.mp3\n",
            "Saving common_voice_bn_42550681.mp3 to common_voice_bn_42550681.mp3\n",
            "Saving common_voice_bn_42550682.mp3 to common_voice_bn_42550682.mp3\n",
            "Saving common_voice_bn_42550683.mp3 to common_voice_bn_42550683.mp3\n",
            "Saving common_voice_bn_42550684.mp3 to common_voice_bn_42550684.mp3\n",
            "Saving common_voice_bn_42550685.mp3 to common_voice_bn_42550685.mp3\n",
            "Saving common_voice_bn_42550686.mp3 to common_voice_bn_42550686.mp3\n",
            "Saving common_voice_bn_42550687.mp3 to common_voice_bn_42550687.mp3\n",
            "Saving common_voice_bn_42560351.mp3 to common_voice_bn_42560351.mp3\n",
            "Saving common_voice_bn_42560352.mp3 to common_voice_bn_42560352.mp3\n",
            "Saving common_voice_bn_42560353.mp3 to common_voice_bn_42560353.mp3\n",
            "Saving common_voice_bn_42560354.mp3 to common_voice_bn_42560354.mp3\n",
            "Saving common_voice_bn_42560355.mp3 to common_voice_bn_42560355.mp3\n",
            "Saving common_voice_bn_42579283.mp3 to common_voice_bn_42579283.mp3\n",
            "Saving common_voice_bn_42579284.mp3 to common_voice_bn_42579284.mp3\n",
            "Saving common_voice_bn_42579285.mp3 to common_voice_bn_42579285.mp3\n",
            "Saving common_voice_bn_42579286.mp3 to common_voice_bn_42579286.mp3\n",
            "Saving common_voice_bn_42579287.mp3 to common_voice_bn_42579287.mp3\n",
            "Saving common_voice_bn_42646470.mp3 to common_voice_bn_42646470.mp3\n",
            "Saving common_voice_bn_42646471.mp3 to common_voice_bn_42646471.mp3\n",
            "Saving common_voice_bn_42646472.mp3 to common_voice_bn_42646472.mp3\n",
            "Saving common_voice_bn_42646473.mp3 to common_voice_bn_42646473.mp3\n",
            "Saving common_voice_bn_42646474.mp3 to common_voice_bn_42646474.mp3\n",
            "Saving common_voice_bn_42675051.mp3 to common_voice_bn_42675051.mp3\n",
            "Uploaded files: ['common_voice_bn_41976672.mp3', 'common_voice_bn_41976673.mp3', 'common_voice_bn_41976674.mp3', 'common_voice_bn_41976675.mp3', 'common_voice_bn_41976676.mp3', 'common_voice_bn_42000065.mp3', 'common_voice_bn_42027111.mp3', 'common_voice_bn_42027112.mp3', 'common_voice_bn_42027115.mp3', 'common_voice_bn_42027118.mp3', 'common_voice_bn_42027120.mp3', 'common_voice_bn_42027132.mp3', 'common_voice_bn_42027133.mp3', 'common_voice_bn_42027134.mp3', 'common_voice_bn_42027135.mp3', 'common_voice_bn_42027136.mp3', 'common_voice_bn_42199680.mp3', 'common_voice_bn_42199682.mp3', 'common_voice_bn_42199684.mp3', 'common_voice_bn_42199686.mp3', 'common_voice_bn_42199688.mp3', 'common_voice_bn_42199782.mp3', 'common_voice_bn_42199785.mp3', 'common_voice_bn_42199787.mp3', 'common_voice_bn_42199790.mp3', 'common_voice_bn_42199792.mp3', 'common_voice_bn_42199840.mp3', 'common_voice_bn_42199841.mp3', 'common_voice_bn_42199842.mp3', 'common_voice_bn_42199843.mp3', 'common_voice_bn_42199844.mp3', 'common_voice_bn_42199875.mp3', 'common_voice_bn_42199876.mp3', 'common_voice_bn_42199877.mp3', 'common_voice_bn_42199878.mp3', 'common_voice_bn_42199880.mp3', 'common_voice_bn_42199930.mp3', 'common_voice_bn_42199931.mp3', 'common_voice_bn_42199932.mp3', 'common_voice_bn_42199933.mp3', 'common_voice_bn_42199934.mp3', 'common_voice_bn_42199985.mp3', 'common_voice_bn_42199986.mp3', 'common_voice_bn_42199987.mp3', 'common_voice_bn_42199988.mp3', 'common_voice_bn_42199989.mp3', 'common_voice_bn_42208432.mp3', 'common_voice_bn_42208433.mp3', 'common_voice_bn_42208434.mp3', 'common_voice_bn_42208435.mp3', 'common_voice_bn_42208436.mp3', 'common_voice_bn_42329407.mp3', 'common_voice_bn_42329409.mp3', 'common_voice_bn_42329410.mp3', 'common_voice_bn_42329411.mp3', 'common_voice_bn_42329413.mp3', 'common_voice_bn_42452245.mp3', 'common_voice_bn_42452247.mp3', 'common_voice_bn_42452248.mp3', 'common_voice_bn_42452249.mp3', 'common_voice_bn_42550678.mp3', 'common_voice_bn_42550679.mp3', 'common_voice_bn_42550680.mp3', 'common_voice_bn_42550681.mp3', 'common_voice_bn_42550682.mp3', 'common_voice_bn_42550683.mp3', 'common_voice_bn_42550684.mp3', 'common_voice_bn_42550685.mp3', 'common_voice_bn_42550686.mp3', 'common_voice_bn_42550687.mp3', 'common_voice_bn_42560351.mp3', 'common_voice_bn_42560352.mp3', 'common_voice_bn_42560353.mp3', 'common_voice_bn_42560354.mp3', 'common_voice_bn_42560355.mp3', 'common_voice_bn_42579283.mp3', 'common_voice_bn_42579284.mp3', 'common_voice_bn_42579285.mp3', 'common_voice_bn_42579286.mp3', 'common_voice_bn_42579287.mp3', 'common_voice_bn_42646470.mp3', 'common_voice_bn_42646471.mp3', 'common_voice_bn_42646472.mp3', 'common_voice_bn_42646473.mp3', 'common_voice_bn_42646474.mp3', 'common_voice_bn_42675051.mp3']\n"
          ]
        }
      ]
    },
    {
      "cell_type": "markdown",
      "source": [
        "### Automated entering"
      ],
      "metadata": {
        "id": "FH0bxMBjCWnx"
      }
    },
    {
      "cell_type": "code",
      "source": [
        "import os\n",
        "import shutil\n",
        "uploaded = files.upload()\n",
        "#Create a new folder under /content\n",
        "clips_path = \"/content/clips\"\n",
        "os.makedirs(clips_path, exist_ok=True)\n",
        "\n",
        "# Move each uploaded file\n",
        "for file_name in uploaded.keys():\n",
        "    shutil.move(file_name, f\"{clips_path}/{file_name}\" )"
      ],
      "metadata": {
        "id": "kUx0Jl4PgQo7",
        "colab": {
          "base_uri": "https://localhost:8080/",
          "height": 1000
        },
        "outputId": "4a039194-b15b-4fcf-dfe1-14ac28553e16"
      },
      "execution_count": 4,
      "outputs": [
        {
          "output_type": "display_data",
          "data": {
            "text/plain": [
              "<IPython.core.display.HTML object>"
            ],
            "text/html": [
              "\n",
              "     <input type=\"file\" id=\"files-d023255f-2464-485b-b0e5-b4c06b097716\" name=\"files[]\" multiple disabled\n",
              "        style=\"border:none\" />\n",
              "     <output id=\"result-d023255f-2464-485b-b0e5-b4c06b097716\">\n",
              "      Upload widget is only available when the cell has been executed in the\n",
              "      current browser session. Please rerun this cell to enable.\n",
              "      </output>\n",
              "      <script>// Copyright 2017 Google LLC\n",
              "//\n",
              "// Licensed under the Apache License, Version 2.0 (the \"License\");\n",
              "// you may not use this file except in compliance with the License.\n",
              "// You may obtain a copy of the License at\n",
              "//\n",
              "//      http://www.apache.org/licenses/LICENSE-2.0\n",
              "//\n",
              "// Unless required by applicable law or agreed to in writing, software\n",
              "// distributed under the License is distributed on an \"AS IS\" BASIS,\n",
              "// WITHOUT WARRANTIES OR CONDITIONS OF ANY KIND, either express or implied.\n",
              "// See the License for the specific language governing permissions and\n",
              "// limitations under the License.\n",
              "\n",
              "/**\n",
              " * @fileoverview Helpers for google.colab Python module.\n",
              " */\n",
              "(function(scope) {\n",
              "function span(text, styleAttributes = {}) {\n",
              "  const element = document.createElement('span');\n",
              "  element.textContent = text;\n",
              "  for (const key of Object.keys(styleAttributes)) {\n",
              "    element.style[key] = styleAttributes[key];\n",
              "  }\n",
              "  return element;\n",
              "}\n",
              "\n",
              "// Max number of bytes which will be uploaded at a time.\n",
              "const MAX_PAYLOAD_SIZE = 100 * 1024;\n",
              "\n",
              "function _uploadFiles(inputId, outputId) {\n",
              "  const steps = uploadFilesStep(inputId, outputId);\n",
              "  const outputElement = document.getElementById(outputId);\n",
              "  // Cache steps on the outputElement to make it available for the next call\n",
              "  // to uploadFilesContinue from Python.\n",
              "  outputElement.steps = steps;\n",
              "\n",
              "  return _uploadFilesContinue(outputId);\n",
              "}\n",
              "\n",
              "// This is roughly an async generator (not supported in the browser yet),\n",
              "// where there are multiple asynchronous steps and the Python side is going\n",
              "// to poll for completion of each step.\n",
              "// This uses a Promise to block the python side on completion of each step,\n",
              "// then passes the result of the previous step as the input to the next step.\n",
              "function _uploadFilesContinue(outputId) {\n",
              "  const outputElement = document.getElementById(outputId);\n",
              "  const steps = outputElement.steps;\n",
              "\n",
              "  const next = steps.next(outputElement.lastPromiseValue);\n",
              "  return Promise.resolve(next.value.promise).then((value) => {\n",
              "    // Cache the last promise value to make it available to the next\n",
              "    // step of the generator.\n",
              "    outputElement.lastPromiseValue = value;\n",
              "    return next.value.response;\n",
              "  });\n",
              "}\n",
              "\n",
              "/**\n",
              " * Generator function which is called between each async step of the upload\n",
              " * process.\n",
              " * @param {string} inputId Element ID of the input file picker element.\n",
              " * @param {string} outputId Element ID of the output display.\n",
              " * @return {!Iterable<!Object>} Iterable of next steps.\n",
              " */\n",
              "function* uploadFilesStep(inputId, outputId) {\n",
              "  const inputElement = document.getElementById(inputId);\n",
              "  inputElement.disabled = false;\n",
              "\n",
              "  const outputElement = document.getElementById(outputId);\n",
              "  outputElement.innerHTML = '';\n",
              "\n",
              "  const pickedPromise = new Promise((resolve) => {\n",
              "    inputElement.addEventListener('change', (e) => {\n",
              "      resolve(e.target.files);\n",
              "    });\n",
              "  });\n",
              "\n",
              "  const cancel = document.createElement('button');\n",
              "  inputElement.parentElement.appendChild(cancel);\n",
              "  cancel.textContent = 'Cancel upload';\n",
              "  const cancelPromise = new Promise((resolve) => {\n",
              "    cancel.onclick = () => {\n",
              "      resolve(null);\n",
              "    };\n",
              "  });\n",
              "\n",
              "  // Wait for the user to pick the files.\n",
              "  const files = yield {\n",
              "    promise: Promise.race([pickedPromise, cancelPromise]),\n",
              "    response: {\n",
              "      action: 'starting',\n",
              "    }\n",
              "  };\n",
              "\n",
              "  cancel.remove();\n",
              "\n",
              "  // Disable the input element since further picks are not allowed.\n",
              "  inputElement.disabled = true;\n",
              "\n",
              "  if (!files) {\n",
              "    return {\n",
              "      response: {\n",
              "        action: 'complete',\n",
              "      }\n",
              "    };\n",
              "  }\n",
              "\n",
              "  for (const file of files) {\n",
              "    const li = document.createElement('li');\n",
              "    li.append(span(file.name, {fontWeight: 'bold'}));\n",
              "    li.append(span(\n",
              "        `(${file.type || 'n/a'}) - ${file.size} bytes, ` +\n",
              "        `last modified: ${\n",
              "            file.lastModifiedDate ? file.lastModifiedDate.toLocaleDateString() :\n",
              "                                    'n/a'} - `));\n",
              "    const percent = span('0% done');\n",
              "    li.appendChild(percent);\n",
              "\n",
              "    outputElement.appendChild(li);\n",
              "\n",
              "    const fileDataPromise = new Promise((resolve) => {\n",
              "      const reader = new FileReader();\n",
              "      reader.onload = (e) => {\n",
              "        resolve(e.target.result);\n",
              "      };\n",
              "      reader.readAsArrayBuffer(file);\n",
              "    });\n",
              "    // Wait for the data to be ready.\n",
              "    let fileData = yield {\n",
              "      promise: fileDataPromise,\n",
              "      response: {\n",
              "        action: 'continue',\n",
              "      }\n",
              "    };\n",
              "\n",
              "    // Use a chunked sending to avoid message size limits. See b/62115660.\n",
              "    let position = 0;\n",
              "    do {\n",
              "      const length = Math.min(fileData.byteLength - position, MAX_PAYLOAD_SIZE);\n",
              "      const chunk = new Uint8Array(fileData, position, length);\n",
              "      position += length;\n",
              "\n",
              "      const base64 = btoa(String.fromCharCode.apply(null, chunk));\n",
              "      yield {\n",
              "        response: {\n",
              "          action: 'append',\n",
              "          file: file.name,\n",
              "          data: base64,\n",
              "        },\n",
              "      };\n",
              "\n",
              "      let percentDone = fileData.byteLength === 0 ?\n",
              "          100 :\n",
              "          Math.round((position / fileData.byteLength) * 100);\n",
              "      percent.textContent = `${percentDone}% done`;\n",
              "\n",
              "    } while (position < fileData.byteLength);\n",
              "  }\n",
              "\n",
              "  // All done.\n",
              "  yield {\n",
              "    response: {\n",
              "      action: 'complete',\n",
              "    }\n",
              "  };\n",
              "}\n",
              "\n",
              "scope.google = scope.google || {};\n",
              "scope.google.colab = scope.google.colab || {};\n",
              "scope.google.colab._files = {\n",
              "  _uploadFiles,\n",
              "  _uploadFilesContinue,\n",
              "};\n",
              "})(self);\n",
              "</script> "
            ]
          },
          "metadata": {}
        },
        {
          "output_type": "stream",
          "name": "stdout",
          "text": [
            "Saving common_voice_bn_41976672.mp3 to common_voice_bn_41976672.mp3\n",
            "Saving common_voice_bn_41976673.mp3 to common_voice_bn_41976673.mp3\n",
            "Saving common_voice_bn_41976674.mp3 to common_voice_bn_41976674.mp3\n",
            "Saving common_voice_bn_41976675.mp3 to common_voice_bn_41976675.mp3\n",
            "Saving common_voice_bn_41976676.mp3 to common_voice_bn_41976676.mp3\n",
            "Saving common_voice_bn_42000065.mp3 to common_voice_bn_42000065.mp3\n",
            "Saving common_voice_bn_42027111.mp3 to common_voice_bn_42027111.mp3\n",
            "Saving common_voice_bn_42027112.mp3 to common_voice_bn_42027112.mp3\n",
            "Saving common_voice_bn_42027115.mp3 to common_voice_bn_42027115.mp3\n",
            "Saving common_voice_bn_42027118.mp3 to common_voice_bn_42027118.mp3\n",
            "Saving common_voice_bn_42027120.mp3 to common_voice_bn_42027120.mp3\n",
            "Saving common_voice_bn_42027132.mp3 to common_voice_bn_42027132.mp3\n",
            "Saving common_voice_bn_42027133.mp3 to common_voice_bn_42027133.mp3\n",
            "Saving common_voice_bn_42027134.mp3 to common_voice_bn_42027134.mp3\n",
            "Saving common_voice_bn_42027135.mp3 to common_voice_bn_42027135.mp3\n",
            "Saving common_voice_bn_42027136.mp3 to common_voice_bn_42027136.mp3\n",
            "Saving common_voice_bn_42199680.mp3 to common_voice_bn_42199680.mp3\n",
            "Saving common_voice_bn_42199682.mp3 to common_voice_bn_42199682.mp3\n",
            "Saving common_voice_bn_42199684.mp3 to common_voice_bn_42199684.mp3\n",
            "Saving common_voice_bn_42199686.mp3 to common_voice_bn_42199686.mp3\n",
            "Saving common_voice_bn_42199688.mp3 to common_voice_bn_42199688.mp3\n",
            "Saving common_voice_bn_42199782.mp3 to common_voice_bn_42199782.mp3\n",
            "Saving common_voice_bn_42199785.mp3 to common_voice_bn_42199785.mp3\n",
            "Saving common_voice_bn_42199787.mp3 to common_voice_bn_42199787.mp3\n",
            "Saving common_voice_bn_42199790.mp3 to common_voice_bn_42199790.mp3\n",
            "Saving common_voice_bn_42199792.mp3 to common_voice_bn_42199792.mp3\n",
            "Saving common_voice_bn_42199840.mp3 to common_voice_bn_42199840.mp3\n",
            "Saving common_voice_bn_42199841.mp3 to common_voice_bn_42199841.mp3\n",
            "Saving common_voice_bn_42199842.mp3 to common_voice_bn_42199842.mp3\n",
            "Saving common_voice_bn_42199843.mp3 to common_voice_bn_42199843.mp3\n",
            "Saving common_voice_bn_42199844.mp3 to common_voice_bn_42199844.mp3\n",
            "Saving common_voice_bn_42199875.mp3 to common_voice_bn_42199875.mp3\n",
            "Saving common_voice_bn_42199876.mp3 to common_voice_bn_42199876.mp3\n",
            "Saving common_voice_bn_42199877.mp3 to common_voice_bn_42199877.mp3\n",
            "Saving common_voice_bn_42199878.mp3 to common_voice_bn_42199878.mp3\n",
            "Saving common_voice_bn_42199880.mp3 to common_voice_bn_42199880.mp3\n",
            "Saving common_voice_bn_42199930.mp3 to common_voice_bn_42199930.mp3\n",
            "Saving common_voice_bn_42199931.mp3 to common_voice_bn_42199931.mp3\n",
            "Saving common_voice_bn_42199932.mp3 to common_voice_bn_42199932.mp3\n",
            "Saving common_voice_bn_42199933.mp3 to common_voice_bn_42199933.mp3\n",
            "Saving common_voice_bn_42199934.mp3 to common_voice_bn_42199934.mp3\n",
            "Saving common_voice_bn_42199985.mp3 to common_voice_bn_42199985.mp3\n",
            "Saving common_voice_bn_42199986.mp3 to common_voice_bn_42199986.mp3\n",
            "Saving common_voice_bn_42199987.mp3 to common_voice_bn_42199987.mp3\n",
            "Saving common_voice_bn_42199988.mp3 to common_voice_bn_42199988.mp3\n",
            "Saving common_voice_bn_42199989.mp3 to common_voice_bn_42199989.mp3\n",
            "Saving common_voice_bn_42208432.mp3 to common_voice_bn_42208432.mp3\n",
            "Saving common_voice_bn_42208433.mp3 to common_voice_bn_42208433.mp3\n",
            "Saving common_voice_bn_42208434.mp3 to common_voice_bn_42208434.mp3\n",
            "Saving common_voice_bn_42208435.mp3 to common_voice_bn_42208435.mp3\n",
            "Saving common_voice_bn_42208436.mp3 to common_voice_bn_42208436.mp3\n",
            "Saving common_voice_bn_42329407.mp3 to common_voice_bn_42329407.mp3\n",
            "Saving common_voice_bn_42329409.mp3 to common_voice_bn_42329409.mp3\n",
            "Saving common_voice_bn_42329410.mp3 to common_voice_bn_42329410.mp3\n",
            "Saving common_voice_bn_42329411.mp3 to common_voice_bn_42329411.mp3\n",
            "Saving common_voice_bn_42329413.mp3 to common_voice_bn_42329413.mp3\n",
            "Saving common_voice_bn_42452245.mp3 to common_voice_bn_42452245.mp3\n",
            "Saving common_voice_bn_42452247.mp3 to common_voice_bn_42452247.mp3\n",
            "Saving common_voice_bn_42452248.mp3 to common_voice_bn_42452248.mp3\n",
            "Saving common_voice_bn_42452249.mp3 to common_voice_bn_42452249.mp3\n",
            "Saving common_voice_bn_42550678.mp3 to common_voice_bn_42550678.mp3\n",
            "Saving common_voice_bn_42550679.mp3 to common_voice_bn_42550679.mp3\n",
            "Saving common_voice_bn_42550680.mp3 to common_voice_bn_42550680.mp3\n",
            "Saving common_voice_bn_42550681.mp3 to common_voice_bn_42550681.mp3\n",
            "Saving common_voice_bn_42550682.mp3 to common_voice_bn_42550682.mp3\n",
            "Saving common_voice_bn_42550683.mp3 to common_voice_bn_42550683.mp3\n",
            "Saving common_voice_bn_42550684.mp3 to common_voice_bn_42550684.mp3\n",
            "Saving common_voice_bn_42550685.mp3 to common_voice_bn_42550685.mp3\n",
            "Saving common_voice_bn_42550686.mp3 to common_voice_bn_42550686.mp3\n",
            "Saving common_voice_bn_42550687.mp3 to common_voice_bn_42550687.mp3\n",
            "Saving common_voice_bn_42560351.mp3 to common_voice_bn_42560351.mp3\n",
            "Saving common_voice_bn_42560352.mp3 to common_voice_bn_42560352.mp3\n",
            "Saving common_voice_bn_42560353.mp3 to common_voice_bn_42560353.mp3\n",
            "Saving common_voice_bn_42560354.mp3 to common_voice_bn_42560354.mp3\n",
            "Saving common_voice_bn_42560355.mp3 to common_voice_bn_42560355.mp3\n",
            "Saving common_voice_bn_42579283.mp3 to common_voice_bn_42579283.mp3\n",
            "Saving common_voice_bn_42579284.mp3 to common_voice_bn_42579284.mp3\n",
            "Saving common_voice_bn_42579285.mp3 to common_voice_bn_42579285.mp3\n",
            "Saving common_voice_bn_42579286.mp3 to common_voice_bn_42579286.mp3\n",
            "Saving common_voice_bn_42579287.mp3 to common_voice_bn_42579287.mp3\n",
            "Saving common_voice_bn_42646470.mp3 to common_voice_bn_42646470.mp3\n",
            "Saving common_voice_bn_42646471.mp3 to common_voice_bn_42646471.mp3\n",
            "Saving common_voice_bn_42646472.mp3 to common_voice_bn_42646472.mp3\n",
            "Saving common_voice_bn_42646473.mp3 to common_voice_bn_42646473.mp3\n",
            "Saving common_voice_bn_42646474.mp3 to common_voice_bn_42646474.mp3\n",
            "Saving common_voice_bn_42675051.mp3 to common_voice_bn_42675051.mp3\n"
          ]
        }
      ]
    },
    {
      "cell_type": "markdown",
      "source": [
        "## Step 4: Enter ground truth scripts"
      ],
      "metadata": {
        "id": "YL8z7f48ycAR"
      }
    },
    {
      "cell_type": "markdown",
      "source": [
        "### Manual Entering\n",
        "\n"
      ],
      "metadata": {
        "id": "-6Irgln2cwoz"
      }
    },
    {
      "cell_type": "code",
      "source": [
        "file_scripts = {}\n",
        "\n",
        "script_csv=input()\n",
        "script_list=script_csv.split(',')\n",
        "i=0\n",
        "\n",
        "for file_name in audio_files:\n",
        "    #print(f\"Enter the ground truth script for file: {file_name}\")\n",
        "    #script = input()\n",
        "\n",
        "    file_scripts[file_name] = script_list[i]\n",
        "    i += 1\n",
        "\n",
        "for file_name, script in file_scripts.items():\n",
        "    print(f\"File: {file_name}, Script: {script}\")"
      ],
      "metadata": {
        "colab": {
          "base_uri": "https://localhost:8080/"
        },
        "id": "gc7ccMbyybcj",
        "outputId": "c4b6f112-07ab-4044-b935-5ea15d18bbf8"
      },
      "execution_count": null,
      "outputs": [
        {
          "output_type": "stream",
          "name": "stdout",
          "text": [
            "ক্যারিয়ারের অর্ধেক রানই এনে দিয়েছেন ভারতের রান তাড়া করে জেতা ম্যাচে।,পিছিয়ে পড়া ম্যাচে দুর্দান্ত গোল করে শেখ জামালকে সমতায় ফিরিয়েছেন সলোমন কিং।,অস্থায়ী সেতু দুটির পিলারের গোড়া থেকে মাটি সরে নড়বড়ে হয়ে পড়েছে।,জানুয়ারি মাসেই দুটি মোটরসাইকেলে আকাশ মুন্নাসহ ছয়জন এসে হত্যার হুমকি দিয়ে যান।,কর্দোভাদো হলো গুলশানে হোলি আর্টিজান বেকারিতে হামলায় নিহত মার্কো তোনদাতের গ্রাম।,আমিও প্রকৃতির নিয়মে আমার পড়াশোনা শেষ করে চাকরি নিয়ে ব্যস্ত হয়ে পড়লাম।,কিন্তু যারা লেখাপড়া জানা আধাশিক্ষিত তাদের কোনো কিছু বোঝানো যায় না।,\n",
            "File: 1.wav, Script: ক্যারিয়ারের অর্ধেক রানই এনে দিয়েছেন ভারতের রান তাড়া করে জেতা ম্যাচে।\n",
            "File: 2.wav, Script: পিছিয়ে পড়া ম্যাচে দুর্দান্ত গোল করে শেখ জামালকে সমতায় ফিরিয়েছেন সলোমন কিং।\n",
            "File: 3.wav, Script: অস্থায়ী সেতু দুটির পিলারের গোড়া থেকে মাটি সরে নড়বড়ে হয়ে পড়েছে।\n",
            "File: 4.wav, Script: জানুয়ারি মাসেই দুটি মোটরসাইকেলে আকাশ মুন্নাসহ ছয়জন এসে হত্যার হুমকি দিয়ে যান।\n",
            "File: 5.wav, Script: কর্দোভাদো হলো গুলশানে হোলি আর্টিজান বেকারিতে হামলায় নিহত মার্কো তোনদাতের গ্রাম।\n",
            "File: 6.wav, Script: আমিও প্রকৃতির নিয়মে আমার পড়াশোনা শেষ করে চাকরি নিয়ে ব্যস্ত হয়ে পড়লাম।\n",
            "File: 7.wav, Script: কিন্তু যারা লেখাপড়া জানা আধাশিক্ষিত তাদের কোনো কিছু বোঝানো যায় না।\n"
          ]
        }
      ]
    },
    {
      "cell_type": "markdown",
      "source": [
        "### cv-corpus-21.0-delta-2025-03-14-bn.tar.gz\n",
        "https://commonvoice.mozilla.org/en/datasets\n",
        "\n",
        "#### Data Preprocessing and cleaning"
      ],
      "metadata": {
        "id": "emyW15DNdDA2"
      }
    },
    {
      "cell_type": "code",
      "source": [
        "import os\n",
        "import pandas as pd\n",
        "import librosa\n",
        "import soundfile as sf\n",
        "from tqdm import tqdm"
      ],
      "metadata": {
        "id": "aHW4nu4ggw1J"
      },
      "execution_count": 5,
      "outputs": []
    },
    {
      "cell_type": "code",
      "source": [
        "dataset_path=\"//content\"\n",
        "uploaded=files.upload()\n",
        "uploaded_filename = list(uploaded.keys())[0]\n",
        "tsv_path = os.path.join(dataset_path, \"script.tsv\")\n",
        "os.rename(os.path.join(dataset_path, uploaded_filename), tsv_path)"
      ],
      "metadata": {
        "colab": {
          "base_uri": "https://localhost:8080/",
          "height": 73
        },
        "id": "P08VYQUEhLRc",
        "outputId": "beb1cbc8-092e-403a-8dc7-8039bc592d48"
      },
      "execution_count": 6,
      "outputs": [
        {
          "output_type": "display_data",
          "data": {
            "text/plain": [
              "<IPython.core.display.HTML object>"
            ],
            "text/html": [
              "\n",
              "     <input type=\"file\" id=\"files-5681aa0a-4df9-41ba-99fe-d4e5435753b4\" name=\"files[]\" multiple disabled\n",
              "        style=\"border:none\" />\n",
              "     <output id=\"result-5681aa0a-4df9-41ba-99fe-d4e5435753b4\">\n",
              "      Upload widget is only available when the cell has been executed in the\n",
              "      current browser session. Please rerun this cell to enable.\n",
              "      </output>\n",
              "      <script>// Copyright 2017 Google LLC\n",
              "//\n",
              "// Licensed under the Apache License, Version 2.0 (the \"License\");\n",
              "// you may not use this file except in compliance with the License.\n",
              "// You may obtain a copy of the License at\n",
              "//\n",
              "//      http://www.apache.org/licenses/LICENSE-2.0\n",
              "//\n",
              "// Unless required by applicable law or agreed to in writing, software\n",
              "// distributed under the License is distributed on an \"AS IS\" BASIS,\n",
              "// WITHOUT WARRANTIES OR CONDITIONS OF ANY KIND, either express or implied.\n",
              "// See the License for the specific language governing permissions and\n",
              "// limitations under the License.\n",
              "\n",
              "/**\n",
              " * @fileoverview Helpers for google.colab Python module.\n",
              " */\n",
              "(function(scope) {\n",
              "function span(text, styleAttributes = {}) {\n",
              "  const element = document.createElement('span');\n",
              "  element.textContent = text;\n",
              "  for (const key of Object.keys(styleAttributes)) {\n",
              "    element.style[key] = styleAttributes[key];\n",
              "  }\n",
              "  return element;\n",
              "}\n",
              "\n",
              "// Max number of bytes which will be uploaded at a time.\n",
              "const MAX_PAYLOAD_SIZE = 100 * 1024;\n",
              "\n",
              "function _uploadFiles(inputId, outputId) {\n",
              "  const steps = uploadFilesStep(inputId, outputId);\n",
              "  const outputElement = document.getElementById(outputId);\n",
              "  // Cache steps on the outputElement to make it available for the next call\n",
              "  // to uploadFilesContinue from Python.\n",
              "  outputElement.steps = steps;\n",
              "\n",
              "  return _uploadFilesContinue(outputId);\n",
              "}\n",
              "\n",
              "// This is roughly an async generator (not supported in the browser yet),\n",
              "// where there are multiple asynchronous steps and the Python side is going\n",
              "// to poll for completion of each step.\n",
              "// This uses a Promise to block the python side on completion of each step,\n",
              "// then passes the result of the previous step as the input to the next step.\n",
              "function _uploadFilesContinue(outputId) {\n",
              "  const outputElement = document.getElementById(outputId);\n",
              "  const steps = outputElement.steps;\n",
              "\n",
              "  const next = steps.next(outputElement.lastPromiseValue);\n",
              "  return Promise.resolve(next.value.promise).then((value) => {\n",
              "    // Cache the last promise value to make it available to the next\n",
              "    // step of the generator.\n",
              "    outputElement.lastPromiseValue = value;\n",
              "    return next.value.response;\n",
              "  });\n",
              "}\n",
              "\n",
              "/**\n",
              " * Generator function which is called between each async step of the upload\n",
              " * process.\n",
              " * @param {string} inputId Element ID of the input file picker element.\n",
              " * @param {string} outputId Element ID of the output display.\n",
              " * @return {!Iterable<!Object>} Iterable of next steps.\n",
              " */\n",
              "function* uploadFilesStep(inputId, outputId) {\n",
              "  const inputElement = document.getElementById(inputId);\n",
              "  inputElement.disabled = false;\n",
              "\n",
              "  const outputElement = document.getElementById(outputId);\n",
              "  outputElement.innerHTML = '';\n",
              "\n",
              "  const pickedPromise = new Promise((resolve) => {\n",
              "    inputElement.addEventListener('change', (e) => {\n",
              "      resolve(e.target.files);\n",
              "    });\n",
              "  });\n",
              "\n",
              "  const cancel = document.createElement('button');\n",
              "  inputElement.parentElement.appendChild(cancel);\n",
              "  cancel.textContent = 'Cancel upload';\n",
              "  const cancelPromise = new Promise((resolve) => {\n",
              "    cancel.onclick = () => {\n",
              "      resolve(null);\n",
              "    };\n",
              "  });\n",
              "\n",
              "  // Wait for the user to pick the files.\n",
              "  const files = yield {\n",
              "    promise: Promise.race([pickedPromise, cancelPromise]),\n",
              "    response: {\n",
              "      action: 'starting',\n",
              "    }\n",
              "  };\n",
              "\n",
              "  cancel.remove();\n",
              "\n",
              "  // Disable the input element since further picks are not allowed.\n",
              "  inputElement.disabled = true;\n",
              "\n",
              "  if (!files) {\n",
              "    return {\n",
              "      response: {\n",
              "        action: 'complete',\n",
              "      }\n",
              "    };\n",
              "  }\n",
              "\n",
              "  for (const file of files) {\n",
              "    const li = document.createElement('li');\n",
              "    li.append(span(file.name, {fontWeight: 'bold'}));\n",
              "    li.append(span(\n",
              "        `(${file.type || 'n/a'}) - ${file.size} bytes, ` +\n",
              "        `last modified: ${\n",
              "            file.lastModifiedDate ? file.lastModifiedDate.toLocaleDateString() :\n",
              "                                    'n/a'} - `));\n",
              "    const percent = span('0% done');\n",
              "    li.appendChild(percent);\n",
              "\n",
              "    outputElement.appendChild(li);\n",
              "\n",
              "    const fileDataPromise = new Promise((resolve) => {\n",
              "      const reader = new FileReader();\n",
              "      reader.onload = (e) => {\n",
              "        resolve(e.target.result);\n",
              "      };\n",
              "      reader.readAsArrayBuffer(file);\n",
              "    });\n",
              "    // Wait for the data to be ready.\n",
              "    let fileData = yield {\n",
              "      promise: fileDataPromise,\n",
              "      response: {\n",
              "        action: 'continue',\n",
              "      }\n",
              "    };\n",
              "\n",
              "    // Use a chunked sending to avoid message size limits. See b/62115660.\n",
              "    let position = 0;\n",
              "    do {\n",
              "      const length = Math.min(fileData.byteLength - position, MAX_PAYLOAD_SIZE);\n",
              "      const chunk = new Uint8Array(fileData, position, length);\n",
              "      position += length;\n",
              "\n",
              "      const base64 = btoa(String.fromCharCode.apply(null, chunk));\n",
              "      yield {\n",
              "        response: {\n",
              "          action: 'append',\n",
              "          file: file.name,\n",
              "          data: base64,\n",
              "        },\n",
              "      };\n",
              "\n",
              "      let percentDone = fileData.byteLength === 0 ?\n",
              "          100 :\n",
              "          Math.round((position / fileData.byteLength) * 100);\n",
              "      percent.textContent = `${percentDone}% done`;\n",
              "\n",
              "    } while (position < fileData.byteLength);\n",
              "  }\n",
              "\n",
              "  // All done.\n",
              "  yield {\n",
              "    response: {\n",
              "      action: 'complete',\n",
              "    }\n",
              "  };\n",
              "}\n",
              "\n",
              "scope.google = scope.google || {};\n",
              "scope.google.colab = scope.google.colab || {};\n",
              "scope.google.colab._files = {\n",
              "  _uploadFiles,\n",
              "  _uploadFilesContinue,\n",
              "};\n",
              "})(self);\n",
              "</script> "
            ]
          },
          "metadata": {}
        },
        {
          "output_type": "stream",
          "name": "stdout",
          "text": [
            "Saving other.tsv to other.tsv\n"
          ]
        }
      ]
    },
    {
      "cell_type": "code",
      "source": [
        "df = pd.read_csv(tsv_path, sep=\"\\t\")\n",
        "print(df.columns)"
      ],
      "metadata": {
        "colab": {
          "base_uri": "https://localhost:8080/"
        },
        "id": "D1Gg6yZChPCJ",
        "outputId": "404ddb85-ba03-468e-c734-033c77921a46"
      },
      "execution_count": 7,
      "outputs": [
        {
          "output_type": "stream",
          "name": "stdout",
          "text": [
            "Index(['client_id', 'path', 'sentence_id', 'sentence', 'sentence_domain',\n",
            "       'up_votes', 'down_votes', 'age', 'gender', 'accents', 'variant',\n",
            "       'locale', 'segment'],\n",
            "      dtype='object')\n"
          ]
        }
      ]
    },
    {
      "cell_type": "code",
      "source": [
        "df = df[[\"path\", \"sentence\"]].dropna()\n",
        "df.head()"
      ],
      "metadata": {
        "colab": {
          "base_uri": "https://localhost:8080/",
          "height": 206
        },
        "id": "KB_nnAZl1Y_4",
        "outputId": "25302150-5622-489f-f7b8-d141e2b32ab0"
      },
      "execution_count": 8,
      "outputs": [
        {
          "output_type": "execute_result",
          "data": {
            "text/plain": [
              "                           path  \\\n",
              "0  common_voice_bn_41976672.mp3   \n",
              "1  common_voice_bn_41976673.mp3   \n",
              "2  common_voice_bn_41976674.mp3   \n",
              "3  common_voice_bn_41976675.mp3   \n",
              "4  common_voice_bn_41976676.mp3   \n",
              "\n",
              "                                            sentence  \n",
              "0                           তিনি ছিলেন প্রটেস্টান্ট।  \n",
              "1  পাবলিক ট্রেড কোম্পানিগুলিতে এই পরিকল্পনাগুলি স...  \n",
              "2     তার প্রথম মিশন স্টেশন ছিল সিলিন্দুং উপত্যকায়।  \n",
              "3            পরবর্তী বিমানগুলোতে প্রচলিত লেজ রয়েছে।  \n",
              "4    তবে কোম্পানি আর্থিক উপদেষ্টার নাম প্রকাশ করেনি।  "
            ],
            "text/html": [
              "\n",
              "  <div id=\"df-424e01da-8671-4b14-a3ee-453dfab70564\" class=\"colab-df-container\">\n",
              "    <div>\n",
              "<style scoped>\n",
              "    .dataframe tbody tr th:only-of-type {\n",
              "        vertical-align: middle;\n",
              "    }\n",
              "\n",
              "    .dataframe tbody tr th {\n",
              "        vertical-align: top;\n",
              "    }\n",
              "\n",
              "    .dataframe thead th {\n",
              "        text-align: right;\n",
              "    }\n",
              "</style>\n",
              "<table border=\"1\" class=\"dataframe\">\n",
              "  <thead>\n",
              "    <tr style=\"text-align: right;\">\n",
              "      <th></th>\n",
              "      <th>path</th>\n",
              "      <th>sentence</th>\n",
              "    </tr>\n",
              "  </thead>\n",
              "  <tbody>\n",
              "    <tr>\n",
              "      <th>0</th>\n",
              "      <td>common_voice_bn_41976672.mp3</td>\n",
              "      <td>তিনি ছিলেন প্রটেস্টান্ট।</td>\n",
              "    </tr>\n",
              "    <tr>\n",
              "      <th>1</th>\n",
              "      <td>common_voice_bn_41976673.mp3</td>\n",
              "      <td>পাবলিক ট্রেড কোম্পানিগুলিতে এই পরিকল্পনাগুলি স...</td>\n",
              "    </tr>\n",
              "    <tr>\n",
              "      <th>2</th>\n",
              "      <td>common_voice_bn_41976674.mp3</td>\n",
              "      <td>তার প্রথম মিশন স্টেশন ছিল সিলিন্দুং উপত্যকায়।</td>\n",
              "    </tr>\n",
              "    <tr>\n",
              "      <th>3</th>\n",
              "      <td>common_voice_bn_41976675.mp3</td>\n",
              "      <td>পরবর্তী বিমানগুলোতে প্রচলিত লেজ রয়েছে।</td>\n",
              "    </tr>\n",
              "    <tr>\n",
              "      <th>4</th>\n",
              "      <td>common_voice_bn_41976676.mp3</td>\n",
              "      <td>তবে কোম্পানি আর্থিক উপদেষ্টার নাম প্রকাশ করেনি।</td>\n",
              "    </tr>\n",
              "  </tbody>\n",
              "</table>\n",
              "</div>\n",
              "    <div class=\"colab-df-buttons\">\n",
              "\n",
              "  <div class=\"colab-df-container\">\n",
              "    <button class=\"colab-df-convert\" onclick=\"convertToInteractive('df-424e01da-8671-4b14-a3ee-453dfab70564')\"\n",
              "            title=\"Convert this dataframe to an interactive table.\"\n",
              "            style=\"display:none;\">\n",
              "\n",
              "  <svg xmlns=\"http://www.w3.org/2000/svg\" height=\"24px\" viewBox=\"0 -960 960 960\">\n",
              "    <path d=\"M120-120v-720h720v720H120Zm60-500h600v-160H180v160Zm220 220h160v-160H400v160Zm0 220h160v-160H400v160ZM180-400h160v-160H180v160Zm440 0h160v-160H620v160ZM180-180h160v-160H180v160Zm440 0h160v-160H620v160Z\"/>\n",
              "  </svg>\n",
              "    </button>\n",
              "\n",
              "  <style>\n",
              "    .colab-df-container {\n",
              "      display:flex;\n",
              "      gap: 12px;\n",
              "    }\n",
              "\n",
              "    .colab-df-convert {\n",
              "      background-color: #E8F0FE;\n",
              "      border: none;\n",
              "      border-radius: 50%;\n",
              "      cursor: pointer;\n",
              "      display: none;\n",
              "      fill: #1967D2;\n",
              "      height: 32px;\n",
              "      padding: 0 0 0 0;\n",
              "      width: 32px;\n",
              "    }\n",
              "\n",
              "    .colab-df-convert:hover {\n",
              "      background-color: #E2EBFA;\n",
              "      box-shadow: 0px 1px 2px rgba(60, 64, 67, 0.3), 0px 1px 3px 1px rgba(60, 64, 67, 0.15);\n",
              "      fill: #174EA6;\n",
              "    }\n",
              "\n",
              "    .colab-df-buttons div {\n",
              "      margin-bottom: 4px;\n",
              "    }\n",
              "\n",
              "    [theme=dark] .colab-df-convert {\n",
              "      background-color: #3B4455;\n",
              "      fill: #D2E3FC;\n",
              "    }\n",
              "\n",
              "    [theme=dark] .colab-df-convert:hover {\n",
              "      background-color: #434B5C;\n",
              "      box-shadow: 0px 1px 3px 1px rgba(0, 0, 0, 0.15);\n",
              "      filter: drop-shadow(0px 1px 2px rgba(0, 0, 0, 0.3));\n",
              "      fill: #FFFFFF;\n",
              "    }\n",
              "  </style>\n",
              "\n",
              "    <script>\n",
              "      const buttonEl =\n",
              "        document.querySelector('#df-424e01da-8671-4b14-a3ee-453dfab70564 button.colab-df-convert');\n",
              "      buttonEl.style.display =\n",
              "        google.colab.kernel.accessAllowed ? 'block' : 'none';\n",
              "\n",
              "      async function convertToInteractive(key) {\n",
              "        const element = document.querySelector('#df-424e01da-8671-4b14-a3ee-453dfab70564');\n",
              "        const dataTable =\n",
              "          await google.colab.kernel.invokeFunction('convertToInteractive',\n",
              "                                                    [key], {});\n",
              "        if (!dataTable) return;\n",
              "\n",
              "        const docLinkHtml = 'Like what you see? Visit the ' +\n",
              "          '<a target=\"_blank\" href=https://colab.research.google.com/notebooks/data_table.ipynb>data table notebook</a>'\n",
              "          + ' to learn more about interactive tables.';\n",
              "        element.innerHTML = '';\n",
              "        dataTable['output_type'] = 'display_data';\n",
              "        await google.colab.output.renderOutput(dataTable, element);\n",
              "        const docLink = document.createElement('div');\n",
              "        docLink.innerHTML = docLinkHtml;\n",
              "        element.appendChild(docLink);\n",
              "      }\n",
              "    </script>\n",
              "  </div>\n",
              "\n",
              "\n",
              "    <div id=\"df-8e1e638e-d180-42b7-a5d9-775f294712e3\">\n",
              "      <button class=\"colab-df-quickchart\" onclick=\"quickchart('df-8e1e638e-d180-42b7-a5d9-775f294712e3')\"\n",
              "                title=\"Suggest charts\"\n",
              "                style=\"display:none;\">\n",
              "\n",
              "<svg xmlns=\"http://www.w3.org/2000/svg\" height=\"24px\"viewBox=\"0 0 24 24\"\n",
              "     width=\"24px\">\n",
              "    <g>\n",
              "        <path d=\"M19 3H5c-1.1 0-2 .9-2 2v14c0 1.1.9 2 2 2h14c1.1 0 2-.9 2-2V5c0-1.1-.9-2-2-2zM9 17H7v-7h2v7zm4 0h-2V7h2v10zm4 0h-2v-4h2v4z\"/>\n",
              "    </g>\n",
              "</svg>\n",
              "      </button>\n",
              "\n",
              "<style>\n",
              "  .colab-df-quickchart {\n",
              "      --bg-color: #E8F0FE;\n",
              "      --fill-color: #1967D2;\n",
              "      --hover-bg-color: #E2EBFA;\n",
              "      --hover-fill-color: #174EA6;\n",
              "      --disabled-fill-color: #AAA;\n",
              "      --disabled-bg-color: #DDD;\n",
              "  }\n",
              "\n",
              "  [theme=dark] .colab-df-quickchart {\n",
              "      --bg-color: #3B4455;\n",
              "      --fill-color: #D2E3FC;\n",
              "      --hover-bg-color: #434B5C;\n",
              "      --hover-fill-color: #FFFFFF;\n",
              "      --disabled-bg-color: #3B4455;\n",
              "      --disabled-fill-color: #666;\n",
              "  }\n",
              "\n",
              "  .colab-df-quickchart {\n",
              "    background-color: var(--bg-color);\n",
              "    border: none;\n",
              "    border-radius: 50%;\n",
              "    cursor: pointer;\n",
              "    display: none;\n",
              "    fill: var(--fill-color);\n",
              "    height: 32px;\n",
              "    padding: 0;\n",
              "    width: 32px;\n",
              "  }\n",
              "\n",
              "  .colab-df-quickchart:hover {\n",
              "    background-color: var(--hover-bg-color);\n",
              "    box-shadow: 0 1px 2px rgba(60, 64, 67, 0.3), 0 1px 3px 1px rgba(60, 64, 67, 0.15);\n",
              "    fill: var(--button-hover-fill-color);\n",
              "  }\n",
              "\n",
              "  .colab-df-quickchart-complete:disabled,\n",
              "  .colab-df-quickchart-complete:disabled:hover {\n",
              "    background-color: var(--disabled-bg-color);\n",
              "    fill: var(--disabled-fill-color);\n",
              "    box-shadow: none;\n",
              "  }\n",
              "\n",
              "  .colab-df-spinner {\n",
              "    border: 2px solid var(--fill-color);\n",
              "    border-color: transparent;\n",
              "    border-bottom-color: var(--fill-color);\n",
              "    animation:\n",
              "      spin 1s steps(1) infinite;\n",
              "  }\n",
              "\n",
              "  @keyframes spin {\n",
              "    0% {\n",
              "      border-color: transparent;\n",
              "      border-bottom-color: var(--fill-color);\n",
              "      border-left-color: var(--fill-color);\n",
              "    }\n",
              "    20% {\n",
              "      border-color: transparent;\n",
              "      border-left-color: var(--fill-color);\n",
              "      border-top-color: var(--fill-color);\n",
              "    }\n",
              "    30% {\n",
              "      border-color: transparent;\n",
              "      border-left-color: var(--fill-color);\n",
              "      border-top-color: var(--fill-color);\n",
              "      border-right-color: var(--fill-color);\n",
              "    }\n",
              "    40% {\n",
              "      border-color: transparent;\n",
              "      border-right-color: var(--fill-color);\n",
              "      border-top-color: var(--fill-color);\n",
              "    }\n",
              "    60% {\n",
              "      border-color: transparent;\n",
              "      border-right-color: var(--fill-color);\n",
              "    }\n",
              "    80% {\n",
              "      border-color: transparent;\n",
              "      border-right-color: var(--fill-color);\n",
              "      border-bottom-color: var(--fill-color);\n",
              "    }\n",
              "    90% {\n",
              "      border-color: transparent;\n",
              "      border-bottom-color: var(--fill-color);\n",
              "    }\n",
              "  }\n",
              "</style>\n",
              "\n",
              "      <script>\n",
              "        async function quickchart(key) {\n",
              "          const quickchartButtonEl =\n",
              "            document.querySelector('#' + key + ' button');\n",
              "          quickchartButtonEl.disabled = true;  // To prevent multiple clicks.\n",
              "          quickchartButtonEl.classList.add('colab-df-spinner');\n",
              "          try {\n",
              "            const charts = await google.colab.kernel.invokeFunction(\n",
              "                'suggestCharts', [key], {});\n",
              "          } catch (error) {\n",
              "            console.error('Error during call to suggestCharts:', error);\n",
              "          }\n",
              "          quickchartButtonEl.classList.remove('colab-df-spinner');\n",
              "          quickchartButtonEl.classList.add('colab-df-quickchart-complete');\n",
              "        }\n",
              "        (() => {\n",
              "          let quickchartButtonEl =\n",
              "            document.querySelector('#df-8e1e638e-d180-42b7-a5d9-775f294712e3 button');\n",
              "          quickchartButtonEl.style.display =\n",
              "            google.colab.kernel.accessAllowed ? 'block' : 'none';\n",
              "        })();\n",
              "      </script>\n",
              "    </div>\n",
              "\n",
              "    </div>\n",
              "  </div>\n"
            ],
            "application/vnd.google.colaboratory.intrinsic+json": {
              "type": "dataframe",
              "variable_name": "df",
              "summary": "{\n  \"name\": \"df\",\n  \"rows\": 86,\n  \"fields\": [\n    {\n      \"column\": \"path\",\n      \"properties\": {\n        \"dtype\": \"string\",\n        \"num_unique_values\": 86,\n        \"samples\": [\n          \"common_voice_bn_42579283.mp3\",\n          \"common_voice_bn_41976672.mp3\",\n          \"common_voice_bn_42560351.mp3\"\n        ],\n        \"semantic_type\": \"\",\n        \"description\": \"\"\n      }\n    },\n    {\n      \"column\": \"sentence\",\n      \"properties\": {\n        \"dtype\": \"string\",\n        \"num_unique_values\": 86,\n        \"samples\": [\n          \"\\u09aa\\u09be\\u0987\\u09b2\\u09c7\\u09b0 \\u0995\\u09be\\u099c \\u09b0\\u09ac\\u09bf\\u09a8 \\u09b9\\u09c1\\u09a1 \\u0997\\u09b2\\u09cd\\u09aa\\u09c7\\u09b0 \\u098f\\u0995 \\u09a8\\u09a4\\u09c1\\u09a8 \\u09af\\u09c1\\u0997\\u09c7\\u09b0 \\u09b8\\u09c2\\u099a\\u09a8\\u09be \\u0995\\u09b0\\u09c7\\u0964\",\n          \"\\u09a4\\u09bf\\u09a8\\u09bf \\u099b\\u09bf\\u09b2\\u09c7\\u09a8 \\u09aa\\u09cd\\u09b0\\u099f\\u09c7\\u09b8\\u09cd\\u099f\\u09be\\u09a8\\u09cd\\u099f\\u0964\",\n          \"\\u09a4\\u09be\\u09b0 \\u0995\\u09be\\u099c \\u09ab\\u09cd\\u09b0\\u09bf\\u09a1\\u09b0\\u09bf\\u0996 \\u09b0\\u09be\\u09ce\\u099c\\u09c7\\u09b2 \\u09a6\\u09cd\\u09ac\\u09be\\u09b0\\u09be \\u09aa\\u09cd\\u09b0\\u09ad\\u09be\\u09ac\\u09bf\\u09a4 \\u09b9\\u09af\\u09bc\\u09c7\\u099b\\u09bf\\u09b2\\u0964\"\n        ],\n        \"semantic_type\": \"\",\n        \"description\": \"\"\n      }\n    }\n  ]\n}"
            }
          },
          "metadata": {},
          "execution_count": 8
        }
      ]
    },
    {
      "cell_type": "code",
      "source": [
        "processed_clips_path = os.path.join(dataset_path, \"processed_clips\")\n",
        "os.makedirs(processed_clips_path, exist_ok=True)"
      ],
      "metadata": {
        "id": "qP-LJvHx1bCI"
      },
      "execution_count": 9,
      "outputs": []
    },
    {
      "cell_type": "code",
      "source": [
        "clips_path = \"/content/clips\"\n",
        "for idx, row in tqdm(df.iterrows(), total=len(df)):\n",
        "    audio_file = os.path.join(clips_path, row[\"path\"])\n",
        "    try:\n",
        "        # Load audio, convert to mono, resample to 16kHz\n",
        "        y, sr = librosa.load(audio_file, sr=16000, mono=True)\n",
        "\n",
        "        # Normalize amplitude\n",
        "        y = y / max(abs(y))\n",
        "\n",
        "        # Save processed audio\n",
        "        out_path = os.path.join(processed_clips_path, row[\"path\"])\n",
        "        sf.write(out_path, y, 16000)\n",
        "    except Exception as e:\n",
        "        print(f\"Error processing {audio_file}: {e}\")\n",
        "print(\"Preprocessing done! Processed audio saved.\")"
      ],
      "metadata": {
        "colab": {
          "base_uri": "https://localhost:8080/"
        },
        "id": "iohTN2911gMW",
        "outputId": "d7ab0d3c-d40f-404a-9d9c-f3df6106db61"
      },
      "execution_count": 10,
      "outputs": [
        {
          "output_type": "stream",
          "name": "stderr",
          "text": [
            "100%|██████████| 86/86 [00:20<00:00,  4.20it/s]"
          ]
        },
        {
          "output_type": "stream",
          "name": "stdout",
          "text": [
            "Preprocessing done! Processed audio saved.\n"
          ]
        },
        {
          "output_type": "stream",
          "name": "stderr",
          "text": [
            "\n"
          ]
        }
      ]
    },
    {
      "cell_type": "code",
      "source": [
        "# Save the processed DataFrame to a CSV file\n",
        "# df.to_csv(os.path.join(dataset_path, \"processed_data.csv\"), index=False)"
      ],
      "metadata": {
        "id": "JyOCXoKS1jLO"
      },
      "execution_count": null,
      "outputs": []
    },
    {
      "cell_type": "markdown",
      "source": [
        "## Step 5: Data Processing"
      ],
      "metadata": {
        "id": "IT5alghJBMQx"
      }
    },
    {
      "cell_type": "markdown",
      "source": [
        "Happens automatically if manually done"
      ],
      "metadata": {
        "id": "RL_TQdM3B3jB"
      }
    },
    {
      "cell_type": "markdown",
      "source": [
        "### Automated linking (Audio and ground truth)"
      ],
      "metadata": {
        "id": "1dpJqOE5dEGa"
      }
    },
    {
      "cell_type": "code",
      "source": [
        "audio_files=[]\n",
        "file_scripts={}\n",
        "for index, row in df.iterrows():\n",
        "  audio_files.append(os.path.join(processed_clips_path, row[\"path\"]))\n",
        "  sentence=row[\"sentence\"]\n",
        "  file_scripts[row[\"path\"]]=sentence"
      ],
      "metadata": {
        "id": "Sms_eC-z4bzg"
      },
      "execution_count": null,
      "outputs": []
    },
    {
      "cell_type": "markdown",
      "source": [
        "## Step 6: Models"
      ],
      "metadata": {
        "id": "oRipdKu_32dL"
      }
    },
    {
      "cell_type": "markdown",
      "source": [
        "### Download Local gguf files"
      ],
      "metadata": {
        "id": "Hz2dGGOijsZF"
      }
    },
    {
      "cell_type": "code",
      "source": [
        "import gdown\n",
        "file_id = \"1IaH_PPk8e02Imf_Wf6m4WrVsUSGQNu5A\"\n",
        "url = f\"https://drive.google.com/uc?id={file_id}\"\n",
        "local_model_path = \"whisper-large-v3-q8_0.gguf\"\n",
        "\n",
        "\n",
        "if not os.path.exists(local_model_path):\n",
        "       print(\"whisper-large-v3-q8_0.gguf model not found locally. Downloading from Google Drive...\")\n",
        "       gdown.download(url, local_model_path, quiet=False)\n",
        "       print(\"Model downloaded successfully!\")\n",
        "else:\n",
        "       print(\"Model already exists locally.\")"
      ],
      "metadata": {
        "id": "En1e_Z9vjqXC",
        "colab": {
          "base_uri": "https://localhost:8080/"
        },
        "outputId": "f57caaa1-6dc1-4589-dcdc-ef50dbc1fef9"
      },
      "execution_count": null,
      "outputs": [
        {
          "output_type": "stream",
          "name": "stdout",
          "text": [
            "Model already exists locally.\n"
          ]
        }
      ]
    },
    {
      "cell_type": "markdown",
      "source": [
        "### Model from HF : indicwav2vec_v1_bengali (ai4bharat)\n",
        "Model page: https://huggingface.co/ai4bharat/indicwav2vec_v1_bengali\n"
      ],
      "metadata": {
        "id": "bSzQjH8lsWpM"
      }
    },
    {
      "cell_type": "code",
      "source": [
        "import librosa\n",
        "import numpy as np\n",
        "from transformers import Wav2Vec2Processor, Wav2Vec2ForCTC\n",
        "\n",
        "# Avoid tokenizer parallel warnings\n",
        "os.environ[\"TOKENIZERS_PARALLELISM\"] = \"false\"\n",
        "\n",
        "def AI4Bharat(audio_path):\n",
        "    processor = Wav2Vec2Processor.from_pretrained(\"ai4bharat/indicwav2vec_v1_bengali\")\n",
        "    model = Wav2Vec2ForCTC.from_pretrained(\"ai4bharat/indicwav2vec_v1_bengali\")\n",
        "\n",
        "    # Load audio\n",
        "    speech_array, sampling_rate = librosa.load(audio_path, sr=16000)\n",
        "\n",
        "    # Convert to tensor\n",
        "    input_values = processor(speech_array, sampling_rate=16000, return_tensors=\"pt\", padding=\"longest\").input_values\n",
        "\n",
        "    # Forward pass\n",
        "    with torch.no_grad():\n",
        "        logits = model(input_values).logits\n",
        "\n",
        "    # Decode\n",
        "    predicted_ids = torch.argmax(logits, dim=-1)\n",
        "\n",
        "    transcription = processor.batch_decode(predicted_ids)[0]\n",
        "    return transcription"
      ],
      "metadata": {
        "id": "NBeGytt3sWpO"
      },
      "execution_count": null,
      "outputs": []
    },
    {
      "cell_type": "markdown",
      "source": [
        "___"
      ],
      "metadata": {
        "id": "Aqd2HCy-ugDZ"
      }
    },
    {
      "cell_type": "markdown",
      "source": [
        "### Model Local gguf: whisper-large-v3-q8_0\n",
        "Model page :- https://huggingface.co/vonjack/whisper-large-v3-gguf"
      ],
      "metadata": {
        "id": "37_OERTkCytv"
      }
    },
    {
      "cell_type": "code",
      "source": [
        "import subprocess\n",
        "import os\n",
        "import gdown\n",
        "\n",
        "def Whisper_Large_v3(audio_path):\n",
        "    output_prefix = audio_path\n",
        "    output_file = f\"{output_prefix}.txt\"\n",
        "    env = os.environ.copy()  # set PATH\n",
        "\n",
        "    binary_path=\"whisper-cli\"\n",
        "    if not os.path.exists(binary_path):\n",
        "        file_id1 = \"1qS9facmYvpnzI5J_6N5rJ-v3HNtOAhJq\"\n",
        "        url = f\"https://drive.google.com/uc?id={file_id1}\"\n",
        "        print(\"whisper-cli not found locally. Downloading from Google Drive...\")\n",
        "        gdown.download(url, binary_path, quiet=False)\n",
        "        print(\"Model downloaded successfully!\")\n",
        "        # Add execute permissions to the downloaded file\n",
        "        os.chmod(binary_path, 0o755) # 0o755 gives read, write, and execute permissions to the owner and read and execute permissions to others\n",
        "    else:\n",
        "        print(\"Model already exists locally.\")\n",
        "\n",
        "\n",
        "\n",
        "\n",
        "    cmd = [\n",
        "        \"./whisper-cli\",#for linux\n",
        "        \"-m\", \"whisper-large-v3-q8_0.gguf\",\n",
        "        \"-f\", audio_path,\n",
        "        \"--language\", \"bn\",\n",
        "        \"-otxt\",\n",
        "        \"-of\", output_prefix\n",
        "    ]\n",
        "\n",
        "    result = subprocess.run(cmd, check=True, capture_output=True, text=True, env=env)\n",
        "    print(\"STDOUT:\", result.stdout)\n",
        "    print(\"STDERR:\", result.stderr)\n",
        "\n",
        "    if not os.path.exists(output_file):\n",
        "        raise FileNotFoundError(f\"Output file was not created: {output_file}\")\n",
        "\n",
        "    with open(output_file, \"r\", encoding=\"utf-8\") as f:\n",
        "        text = f.read()\n",
        "    return text"
      ],
      "metadata": {
        "id": "vh3qfCW-gXG1"
      },
      "execution_count": null,
      "outputs": []
    },
    {
      "cell_type": "code",
      "source": [
        "# from whisper_cpp_python import Whisper\n",
        "# whisper_model = Whisper(\"whisper-large-v3-q8_0.gguf\")\n",
        "# def Whisper_Large_v3(audio_path):\n",
        "\n",
        "#     output_prefix = audio_path\n",
        "#     output_file = f\"{output_prefix}.txt\"\n",
        "#     env = os.environ.copy()\n",
        "#     result = whisper_model.transcribe(audio_path)\n",
        "#     return result[\"text\"]"
      ],
      "metadata": {
        "id": "NoI2O5tc7kL3"
      },
      "execution_count": null,
      "outputs": []
    },
    {
      "cell_type": "markdown",
      "source": [
        "OpenAi_Whisper_Large_v3"
      ],
      "metadata": {
        "id": "TAfTy1oP2Juo"
      }
    },
    {
      "cell_type": "code",
      "source": [
        "from transformers import AutoProcessor, AutoModelForSpeechSeq2Seq\n",
        "import torch\n",
        "import librosa\n",
        "import numpy as np\n",
        "\n",
        "def OpenAi_Whisper_Large_v3(audio_path):\n",
        "  processor = AutoProcessor.from_pretrained(\"openai/whisper-large-v3\")\n",
        "  model = AutoModelForSpeechSeq2Seq.from_pretrained(\"openai/whisper-large-v3\")\n",
        "  # Load audio\n",
        "  speech_array, sampling_rate = librosa.load(audio_path, sr=16000)\n",
        "\n",
        "  # Convert to tensor\n",
        "  inputs = processor(speech_array, sampling_rate=16000, return_tensors=\"pt\", padding=\"longest\")\n",
        "\n",
        "  # Pad input features to length 3000\n",
        "  input_features = inputs.input_features\n",
        "  if input_features.shape[-1] < 3000:\n",
        "      padding_needed = 3000 - input_features.shape[-1]\n",
        "      input_features = torch.nn.functional.pad(input_features, (0, padding_needed))\n",
        "  elif input_features.shape[-1] > 3000:\n",
        "      input_features = input_features[:, :3000]\n",
        "\n",
        "\n",
        "  # Forward pass\n",
        "  with torch.no_grad():\n",
        "      logits = model(input_features).logits\n",
        "\n",
        "  # Decode\n",
        "  predicted_ids = torch.argmax(logits, dim=-1)\n",
        "\n",
        "  transcription = processor.batch_decode(predicted_ids, skip_special_tokens=True)[0]\n",
        "  return transcription"
      ],
      "metadata": {
        "id": "F6Ke3ZP_2KVO"
      },
      "execution_count": null,
      "outputs": []
    },
    {
      "cell_type": "code",
      "source": [
        "#\"openai/whisper-large-v3\"\n",
        "model_options=[\"ai4bharat/indicwav2vec_v1_bengali\",\"whisper-large-v3-q8_0.gguf\",]\n",
        "#\"openai/whisper-large-v3\":OpenAi_Whisper_Large_v3\n",
        "model_fn={\"ai4bharat/indicwav2vec_v1_bengali\":AI4Bharat,\"whisper-large-v3-q8_0.gguf\":Whisper_Large_v3,}"
      ],
      "metadata": {
        "id": "gfwbOLu-c3jd",
        "colab": {
          "base_uri": "https://localhost:8080/",
          "height": 176
        },
        "outputId": "7b2c9a0b-885f-4c03-d188-dfdea5c0ed1d"
      },
      "execution_count": 11,
      "outputs": [
        {
          "output_type": "error",
          "ename": "NameError",
          "evalue": "name 'AI4Bharat' is not defined",
          "traceback": [
            "\u001b[0;31m---------------------------------------------------------------------------\u001b[0m",
            "\u001b[0;31mNameError\u001b[0m                                 Traceback (most recent call last)",
            "\u001b[0;32m/tmp/ipython-input-11-3649051813.py\u001b[0m in \u001b[0;36m<cell line: 0>\u001b[0;34m()\u001b[0m\n\u001b[1;32m      2\u001b[0m \u001b[0mmodel_options\u001b[0m\u001b[0;34m=\u001b[0m\u001b[0;34m[\u001b[0m\u001b[0;34m\"ai4bharat/indicwav2vec_v1_bengali\"\u001b[0m\u001b[0;34m,\u001b[0m\u001b[0;34m\"whisper-large-v3-q8_0.gguf\"\u001b[0m\u001b[0;34m,\u001b[0m\u001b[0;34m]\u001b[0m\u001b[0;34m\u001b[0m\u001b[0;34m\u001b[0m\u001b[0m\n\u001b[1;32m      3\u001b[0m \u001b[0;31m#\"openai/whisper-large-v3\":OpenAi_Whisper_Large_v3\u001b[0m\u001b[0;34m\u001b[0m\u001b[0;34m\u001b[0m\u001b[0m\n\u001b[0;32m----> 4\u001b[0;31m \u001b[0mmodel_fn\u001b[0m\u001b[0;34m=\u001b[0m\u001b[0;34m{\u001b[0m\u001b[0;34m\"ai4bharat/indicwav2vec_v1_bengali\"\u001b[0m\u001b[0;34m:\u001b[0m\u001b[0mAI4Bharat\u001b[0m\u001b[0;34m,\u001b[0m\u001b[0;34m\"whisper-large-v3-q8_0.gguf\"\u001b[0m\u001b[0;34m:\u001b[0m\u001b[0mWhisper_Large_v3\u001b[0m\u001b[0;34m,\u001b[0m\u001b[0;34m}\u001b[0m\u001b[0;34m\u001b[0m\u001b[0;34m\u001b[0m\u001b[0m\n\u001b[0m",
            "\u001b[0;31mNameError\u001b[0m: name 'AI4Bharat' is not defined"
          ]
        }
      ]
    },
    {
      "cell_type": "markdown",
      "source": [
        "## Code Continued"
      ],
      "metadata": {
        "id": "fCBhusb93-sK"
      }
    },
    {
      "cell_type": "code",
      "source": [
        "import torch\n",
        "print(torch.cuda.is_available())  # True if using GPU\n",
        "print(torch.device('cuda' if torch.cuda.is_available() else 'cpu'))\n"
      ],
      "metadata": {
        "colab": {
          "base_uri": "https://localhost:8080/"
        },
        "id": "GpoD01nLeDsq",
        "outputId": "b39dffea-dc7f-4d80-8251-6e30bdfcf804"
      },
      "execution_count": null,
      "outputs": [
        {
          "output_type": "stream",
          "name": "stdout",
          "text": [
            "True\n",
            "cuda\n"
          ]
        }
      ]
    },
    {
      "cell_type": "markdown",
      "source": [
        "## Step 7: Compare models"
      ],
      "metadata": {
        "id": "DDkAgq03yuAe"
      }
    },
    {
      "cell_type": "code",
      "metadata": {
        "colab": {
          "base_uri": "https://localhost:8080/"
        },
        "id": "60430403",
        "outputId": "eeba5ba2-072e-4265-e385-4ffd2b712ff5"
      },
      "source": [
        "results = []\n",
        "\n",
        "for file_path in audio_files:\n",
        "    file_name = os.path.basename(file_path) # Extract filename from the full path\n",
        "    true_script = file_scripts[file_name]\n",
        "    for model_name in model_options:\n",
        "        print(f\"Transcribing {file_name} with model: {model_name}\")\n",
        "        transcription = model_fn[model_name](file_path) # Pass the full path to the model function\n",
        "\n",
        "        curr_wer = wer(true_script, transcription)\n",
        "        curr_cer = cer(true_script, transcription)\n",
        "\n",
        "        results.append({\n",
        "            \"File\": file_name,\n",
        "            \"Model\": model_name,\n",
        "            \"True Script\": true_script,\n",
        "            \"Predicted\": transcription,\n",
        "            \"WER\": round(curr_wer, 3),\n",
        "            \"CER\": round(curr_cer, 3),\n",
        "        })\n",
        "\n",
        "    # Remove the temporary wav file\n",
        "    #os.unlink(wav_file_name)"
      ],
      "execution_count": null,
      "outputs": [
        {
          "output_type": "stream",
          "name": "stdout",
          "text": [
            "Transcribing common_voice_bn_41976672.mp3 with model: openai/whisper-large-v3\n"
          ]
        }
      ]
    },
    {
      "cell_type": "code",
      "metadata": {
        "colab": {
          "base_uri": "https://localhost:8080/",
          "height": 211
        },
        "id": "fb29282d",
        "outputId": "bdd3705c-cccf-4fec-85f4-2f1e012483f5"
      },
      "source": [
        "\n",
        "\n",
        "results = []\n",
        "\n",
        "for file_name in audio_files:\n",
        "    true_script = file_scripts[file_name]\n",
        "    for model_name in model_options:\n",
        "        print(f\"Transcribing {file_name} with model: {model_name}\")\n",
        "        transcription = model_fn[model_name](file_name)\n",
        "\n",
        "        curr_wer = wer(true_script, transcription)\n",
        "        curr_cer = cer(true_script, transcription)\n",
        "\n",
        "        results.append({\n",
        "            \"File\": file_name,\n",
        "            \"Model\": model_name,\n",
        "            \"True Script\": true_script,\n",
        "            \"Predicted\": transcription,\n",
        "            \"WER\": round(curr_wer, 3),\n",
        "            \"CER\": round(curr_cer, 3),\n",
        "        })\n",
        "\n",
        "    # Remove the temporary wav file\n",
        "    #os.unlink(wav_file_name)\n"
      ],
      "execution_count": null,
      "outputs": [
        {
          "output_type": "error",
          "ename": "KeyError",
          "evalue": "'//content/processed_clips/common_voice_bn_41976672.mp3'",
          "traceback": [
            "\u001b[0;31m---------------------------------------------------------------------------\u001b[0m",
            "\u001b[0;31mKeyError\u001b[0m                                  Traceback (most recent call last)",
            "\u001b[0;32m/tmp/ipython-input-22-4247433857.py\u001b[0m in \u001b[0;36m<cell line: 0>\u001b[0;34m()\u001b[0m\n\u001b[1;32m      2\u001b[0m \u001b[0;34m\u001b[0m\u001b[0m\n\u001b[1;32m      3\u001b[0m \u001b[0;32mfor\u001b[0m \u001b[0mfile_name\u001b[0m \u001b[0;32min\u001b[0m \u001b[0maudio_files\u001b[0m\u001b[0;34m:\u001b[0m\u001b[0;34m\u001b[0m\u001b[0;34m\u001b[0m\u001b[0m\n\u001b[0;32m----> 4\u001b[0;31m     \u001b[0mtrue_script\u001b[0m \u001b[0;34m=\u001b[0m \u001b[0mfile_scripts\u001b[0m\u001b[0;34m[\u001b[0m\u001b[0mfile_name\u001b[0m\u001b[0;34m]\u001b[0m\u001b[0;34m\u001b[0m\u001b[0;34m\u001b[0m\u001b[0m\n\u001b[0m\u001b[1;32m      5\u001b[0m     \u001b[0;32mfor\u001b[0m \u001b[0mmodel_name\u001b[0m \u001b[0;32min\u001b[0m \u001b[0mmodel_options\u001b[0m\u001b[0;34m:\u001b[0m\u001b[0;34m\u001b[0m\u001b[0;34m\u001b[0m\u001b[0m\n\u001b[1;32m      6\u001b[0m         \u001b[0mprint\u001b[0m\u001b[0;34m(\u001b[0m\u001b[0;34mf\"Transcribing {file_name} with model: {model_name}\"\u001b[0m\u001b[0;34m)\u001b[0m\u001b[0;34m\u001b[0m\u001b[0;34m\u001b[0m\u001b[0m\n",
            "\u001b[0;31mKeyError\u001b[0m: '//content/processed_clips/common_voice_bn_41976672.mp3'"
          ]
        }
      ]
    },
    {
      "cell_type": "markdown",
      "source": [
        "## Step 8: Display results\n"
      ],
      "metadata": {
        "id": "XhbyXmF8yx8G"
      }
    },
    {
      "cell_type": "code",
      "source": [
        "#results"
      ],
      "metadata": {
        "id": "7qPzISwAZWyT"
      },
      "execution_count": null,
      "outputs": []
    },
    {
      "cell_type": "code",
      "source": [
        "import pandas as pd\n",
        "df_results = pd.DataFrame(results)\n",
        "df_results"
      ],
      "metadata": {
        "colab": {
          "base_uri": "https://localhost:8080/",
          "height": 153
        },
        "id": "4-Ak4M77yxsV",
        "outputId": "94f1029a-858a-4584-e761-50cf1f8ff1d5",
        "collapsed": true
      },
      "execution_count": null,
      "outputs": [
        {
          "output_type": "execute_result",
          "data": {
            "text/plain": [
              "                           File                       Model  \\\n",
              "0  common_voice_bn_41976672.mp3  whisper-large-v3-q8_0.gguf   \n",
              "\n",
              "                True Script                  Predicted    WER    CER  \n",
              "0  তিনি ছিলেন প্রটেস্টান্ট।   তিনি ছিলেন প্রটেস্টন্ট\\n  0.333  0.083  "
            ],
            "text/html": [
              "\n",
              "  <div id=\"df-d47f9da5-7988-43cd-a63f-7d1791797be4\" class=\"colab-df-container\">\n",
              "    <div>\n",
              "<style scoped>\n",
              "    .dataframe tbody tr th:only-of-type {\n",
              "        vertical-align: middle;\n",
              "    }\n",
              "\n",
              "    .dataframe tbody tr th {\n",
              "        vertical-align: top;\n",
              "    }\n",
              "\n",
              "    .dataframe thead th {\n",
              "        text-align: right;\n",
              "    }\n",
              "</style>\n",
              "<table border=\"1\" class=\"dataframe\">\n",
              "  <thead>\n",
              "    <tr style=\"text-align: right;\">\n",
              "      <th></th>\n",
              "      <th>File</th>\n",
              "      <th>Model</th>\n",
              "      <th>True Script</th>\n",
              "      <th>Predicted</th>\n",
              "      <th>WER</th>\n",
              "      <th>CER</th>\n",
              "    </tr>\n",
              "  </thead>\n",
              "  <tbody>\n",
              "    <tr>\n",
              "      <th>0</th>\n",
              "      <td>common_voice_bn_41976672.mp3</td>\n",
              "      <td>whisper-large-v3-q8_0.gguf</td>\n",
              "      <td>তিনি ছিলেন প্রটেস্টান্ট।</td>\n",
              "      <td>তিনি ছিলেন প্রটেস্টন্ট\\n</td>\n",
              "      <td>0.333</td>\n",
              "      <td>0.083</td>\n",
              "    </tr>\n",
              "  </tbody>\n",
              "</table>\n",
              "</div>\n",
              "    <div class=\"colab-df-buttons\">\n",
              "\n",
              "  <div class=\"colab-df-container\">\n",
              "    <button class=\"colab-df-convert\" onclick=\"convertToInteractive('df-d47f9da5-7988-43cd-a63f-7d1791797be4')\"\n",
              "            title=\"Convert this dataframe to an interactive table.\"\n",
              "            style=\"display:none;\">\n",
              "\n",
              "  <svg xmlns=\"http://www.w3.org/2000/svg\" height=\"24px\" viewBox=\"0 -960 960 960\">\n",
              "    <path d=\"M120-120v-720h720v720H120Zm60-500h600v-160H180v160Zm220 220h160v-160H400v160Zm0 220h160v-160H400v160ZM180-400h160v-160H180v160Zm440 0h160v-160H620v160ZM180-180h160v-160H180v160Zm440 0h160v-160H620v160Z\"/>\n",
              "  </svg>\n",
              "    </button>\n",
              "\n",
              "  <style>\n",
              "    .colab-df-container {\n",
              "      display:flex;\n",
              "      gap: 12px;\n",
              "    }\n",
              "\n",
              "    .colab-df-convert {\n",
              "      background-color: #E8F0FE;\n",
              "      border: none;\n",
              "      border-radius: 50%;\n",
              "      cursor: pointer;\n",
              "      display: none;\n",
              "      fill: #1967D2;\n",
              "      height: 32px;\n",
              "      padding: 0 0 0 0;\n",
              "      width: 32px;\n",
              "    }\n",
              "\n",
              "    .colab-df-convert:hover {\n",
              "      background-color: #E2EBFA;\n",
              "      box-shadow: 0px 1px 2px rgba(60, 64, 67, 0.3), 0px 1px 3px 1px rgba(60, 64, 67, 0.15);\n",
              "      fill: #174EA6;\n",
              "    }\n",
              "\n",
              "    .colab-df-buttons div {\n",
              "      margin-bottom: 4px;\n",
              "    }\n",
              "\n",
              "    [theme=dark] .colab-df-convert {\n",
              "      background-color: #3B4455;\n",
              "      fill: #D2E3FC;\n",
              "    }\n",
              "\n",
              "    [theme=dark] .colab-df-convert:hover {\n",
              "      background-color: #434B5C;\n",
              "      box-shadow: 0px 1px 3px 1px rgba(0, 0, 0, 0.15);\n",
              "      filter: drop-shadow(0px 1px 2px rgba(0, 0, 0, 0.3));\n",
              "      fill: #FFFFFF;\n",
              "    }\n",
              "  </style>\n",
              "\n",
              "    <script>\n",
              "      const buttonEl =\n",
              "        document.querySelector('#df-d47f9da5-7988-43cd-a63f-7d1791797be4 button.colab-df-convert');\n",
              "      buttonEl.style.display =\n",
              "        google.colab.kernel.accessAllowed ? 'block' : 'none';\n",
              "\n",
              "      async function convertToInteractive(key) {\n",
              "        const element = document.querySelector('#df-d47f9da5-7988-43cd-a63f-7d1791797be4');\n",
              "        const dataTable =\n",
              "          await google.colab.kernel.invokeFunction('convertToInteractive',\n",
              "                                                    [key], {});\n",
              "        if (!dataTable) return;\n",
              "\n",
              "        const docLinkHtml = 'Like what you see? Visit the ' +\n",
              "          '<a target=\"_blank\" href=https://colab.research.google.com/notebooks/data_table.ipynb>data table notebook</a>'\n",
              "          + ' to learn more about interactive tables.';\n",
              "        element.innerHTML = '';\n",
              "        dataTable['output_type'] = 'display_data';\n",
              "        await google.colab.output.renderOutput(dataTable, element);\n",
              "        const docLink = document.createElement('div');\n",
              "        docLink.innerHTML = docLinkHtml;\n",
              "        element.appendChild(docLink);\n",
              "      }\n",
              "    </script>\n",
              "  </div>\n",
              "\n",
              "\n",
              "  <div id=\"id_bdacefd4-4a09-4624-9278-1188c2818dca\">\n",
              "    <style>\n",
              "      .colab-df-generate {\n",
              "        background-color: #E8F0FE;\n",
              "        border: none;\n",
              "        border-radius: 50%;\n",
              "        cursor: pointer;\n",
              "        display: none;\n",
              "        fill: #1967D2;\n",
              "        height: 32px;\n",
              "        padding: 0 0 0 0;\n",
              "        width: 32px;\n",
              "      }\n",
              "\n",
              "      .colab-df-generate:hover {\n",
              "        background-color: #E2EBFA;\n",
              "        box-shadow: 0px 1px 2px rgba(60, 64, 67, 0.3), 0px 1px 3px 1px rgba(60, 64, 67, 0.15);\n",
              "        fill: #174EA6;\n",
              "      }\n",
              "\n",
              "      [theme=dark] .colab-df-generate {\n",
              "        background-color: #3B4455;\n",
              "        fill: #D2E3FC;\n",
              "      }\n",
              "\n",
              "      [theme=dark] .colab-df-generate:hover {\n",
              "        background-color: #434B5C;\n",
              "        box-shadow: 0px 1px 3px 1px rgba(0, 0, 0, 0.15);\n",
              "        filter: drop-shadow(0px 1px 2px rgba(0, 0, 0, 0.3));\n",
              "        fill: #FFFFFF;\n",
              "      }\n",
              "    </style>\n",
              "    <button class=\"colab-df-generate\" onclick=\"generateWithVariable('df_results')\"\n",
              "            title=\"Generate code using this dataframe.\"\n",
              "            style=\"display:none;\">\n",
              "\n",
              "  <svg xmlns=\"http://www.w3.org/2000/svg\" height=\"24px\"viewBox=\"0 0 24 24\"\n",
              "       width=\"24px\">\n",
              "    <path d=\"M7,19H8.4L18.45,9,17,7.55,7,17.6ZM5,21V16.75L18.45,3.32a2,2,0,0,1,2.83,0l1.4,1.43a1.91,1.91,0,0,1,.58,1.4,1.91,1.91,0,0,1-.58,1.4L9.25,21ZM18.45,9,17,7.55Zm-12,3A5.31,5.31,0,0,0,4.9,8.1,5.31,5.31,0,0,0,1,6.5,5.31,5.31,0,0,0,4.9,4.9,5.31,5.31,0,0,0,6.5,1,5.31,5.31,0,0,0,8.1,4.9,5.31,5.31,0,0,0,12,6.5,5.46,5.46,0,0,0,6.5,12Z\"/>\n",
              "  </svg>\n",
              "    </button>\n",
              "    <script>\n",
              "      (() => {\n",
              "      const buttonEl =\n",
              "        document.querySelector('#id_bdacefd4-4a09-4624-9278-1188c2818dca button.colab-df-generate');\n",
              "      buttonEl.style.display =\n",
              "        google.colab.kernel.accessAllowed ? 'block' : 'none';\n",
              "\n",
              "      buttonEl.onclick = () => {\n",
              "        google.colab.notebook.generateWithVariable('df_results');\n",
              "      }\n",
              "      })();\n",
              "    </script>\n",
              "  </div>\n",
              "\n",
              "    </div>\n",
              "  </div>\n"
            ],
            "application/vnd.google.colaboratory.intrinsic+json": {
              "type": "dataframe",
              "variable_name": "df_results",
              "summary": "{\n  \"name\": \"df_results\",\n  \"rows\": 1,\n  \"fields\": [\n    {\n      \"column\": \"File\",\n      \"properties\": {\n        \"dtype\": \"string\",\n        \"num_unique_values\": 1,\n        \"samples\": [\n          \"common_voice_bn_41976672.mp3\"\n        ],\n        \"semantic_type\": \"\",\n        \"description\": \"\"\n      }\n    },\n    {\n      \"column\": \"Model\",\n      \"properties\": {\n        \"dtype\": \"string\",\n        \"num_unique_values\": 1,\n        \"samples\": [\n          \"whisper-large-v3-q8_0.gguf\"\n        ],\n        \"semantic_type\": \"\",\n        \"description\": \"\"\n      }\n    },\n    {\n      \"column\": \"True Script\",\n      \"properties\": {\n        \"dtype\": \"string\",\n        \"num_unique_values\": 1,\n        \"samples\": [\n          \"\\u09a4\\u09bf\\u09a8\\u09bf \\u099b\\u09bf\\u09b2\\u09c7\\u09a8 \\u09aa\\u09cd\\u09b0\\u099f\\u09c7\\u09b8\\u09cd\\u099f\\u09be\\u09a8\\u09cd\\u099f\\u0964\"\n        ],\n        \"semantic_type\": \"\",\n        \"description\": \"\"\n      }\n    },\n    {\n      \"column\": \"Predicted\",\n      \"properties\": {\n        \"dtype\": \"string\",\n        \"num_unique_values\": 1,\n        \"samples\": [\n          \" \\u09a4\\u09bf\\u09a8\\u09bf \\u099b\\u09bf\\u09b2\\u09c7\\u09a8 \\u09aa\\u09cd\\u09b0\\u099f\\u09c7\\u09b8\\u09cd\\u099f\\u09a8\\u09cd\\u099f\\n\"\n        ],\n        \"semantic_type\": \"\",\n        \"description\": \"\"\n      }\n    },\n    {\n      \"column\": \"WER\",\n      \"properties\": {\n        \"dtype\": \"number\",\n        \"std\": null,\n        \"min\": 0.333,\n        \"max\": 0.333,\n        \"num_unique_values\": 1,\n        \"samples\": [\n          0.333\n        ],\n        \"semantic_type\": \"\",\n        \"description\": \"\"\n      }\n    },\n    {\n      \"column\": \"CER\",\n      \"properties\": {\n        \"dtype\": \"number\",\n        \"std\": null,\n        \"min\": 0.083,\n        \"max\": 0.083,\n        \"num_unique_values\": 1,\n        \"samples\": [\n          0.083\n        ],\n        \"semantic_type\": \"\",\n        \"description\": \"\"\n      }\n    }\n  ]\n}"
            }
          },
          "metadata": {},
          "execution_count": 67
        }
      ]
    },
    {
      "cell_type": "code",
      "source": [
        "wer_avg = df_results.groupby('Model')['WER'].mean()\n",
        "cer_avg = df_results.groupby('Model')['CER'].mean()\n",
        "\n",
        "print(\"Average WER per model:\")\n",
        "print(wer_avg)\n",
        "print(\"\\nAverage CER per model:\")\n",
        "print(cer_avg)"
      ],
      "metadata": {
        "colab": {
          "base_uri": "https://localhost:8080/"
        },
        "id": "FS8DYVsfIO6V",
        "outputId": "876797f9-97ec-44fe-b771-873eac682719"
      },
      "execution_count": null,
      "outputs": [
        {
          "output_type": "stream",
          "name": "stdout",
          "text": [
            "Average WER per model:\n",
            "Model\n",
            "ai4bharat/indicwav2vec_v1_bengali    0.467417\n",
            "whisper-large-v3-q8_0.gguf           0.755727\n",
            "Name: WER, dtype: float64\n",
            "\n",
            "Average CER per model:\n",
            "Model\n",
            "ai4bharat/indicwav2vec_v1_bengali    0.177917\n",
            "whisper-large-v3-q8_0.gguf           0.347727\n",
            "Name: CER, dtype: float64\n"
          ]
        }
      ]
    },
    {
      "cell_type": "markdown",
      "source": [
        "## Sample plot\n"
      ],
      "metadata": {
        "id": "qpW20xjlgvp9"
      }
    },
    {
      "cell_type": "markdown",
      "source": [
        "#### WER vs models"
      ],
      "metadata": {
        "id": "0wfzTmHBiLhB"
      }
    },
    {
      "cell_type": "code",
      "metadata": {
        "id": "297a4b8a",
        "colab": {
          "base_uri": "https://localhost:8080/",
          "height": 627
        },
        "outputId": "b2e38373-b78c-42fb-9631-2e39128baf75"
      },
      "source": [
        "import matplotlib.pyplot as plt\n",
        "import pandas as pd\n",
        "\n",
        "# Calculate the average WER for each model\n",
        "avg_wer_per_model = df_results.groupby('Model')['WER'].mean().reset_index()\n",
        "\n",
        "# Create a bar chart of average WER per model using matplotlib\n",
        "plt.figure(figsize=(10, 6))\n",
        "plt.bar(avg_wer_per_model['Model'], avg_wer_per_model['WER'])\n",
        "plt.xlabel('Model')\n",
        "plt.ylabel('Average WER')\n",
        "plt.title('Average WER per Model')\n",
        "plt.xticks(rotation=45, ha='right') # Rotate x-axis labels for better readability\n",
        "plt.tight_layout() # Adjust layout to prevent labels overlapping\n",
        "plt.show()"
      ],
      "execution_count": null,
      "outputs": [
        {
          "output_type": "display_data",
          "data": {
            "text/plain": [
              "<Figure size 1000x600 with 1 Axes>"
            ],
            "image/png": "[encoded data removed]"
          },
          "metadata": {}
        }
      ]
    },
    {
      "cell_type": "markdown",
      "source": [
        "#### WER vs audio"
      ],
      "metadata": {
        "id": "5DqTYNUYiUdm"
      }
    },
    {
      "cell_type": "code",
      "metadata": {
        "id": "a760684f",
        "colab": {
          "base_uri": "https://localhost:8080/",
          "height": 447
        },
        "outputId": "95c56376-2419-4856-f210-028c17d3b82a"
      },
      "source": [
        "import matplotlib.pyplot as plt\n",
        "import pandas as pd\n",
        "\n",
        "# Create a scatter plot of WER vs File, colored by Model using matplotlib\n",
        "plt.figure(figsize=(10, 6))\n",
        "colors = plt.cm.get_cmap('tab10', len(df_results['Model'].unique())) # Get a colormap\n",
        "for i, model_name in enumerate(df_results['Model'].unique()):\n",
        "    model_data = df_results[df_results['Model'] == model_name]\n",
        "    plt.scatter(model_data['File'], model_data['WER'], color=colors(i), label=model_name)\n",
        "\n",
        "plt.xlabel('Audio File')\n",
        "plt.ylabel('WER')\n",
        "plt.title('WER vs Audio File by Model')\n",
        "plt.xticks(rotation=45, ha='right') # Rotate x-axis labels for better readability\n",
        "plt.legend(title='Model')\n",
        "plt.tight_layout() # Adjust layout to prevent labels overlapping\n",
        "plt.show()"
      ],
      "execution_count": null,
      "outputs": [
        {
          "output_type": "stream",
          "name": "stderr",
          "text": [
            "/tmp/ipython-input-52-2769731599.py:6: MatplotlibDeprecationWarning: The get_cmap function was deprecated in Matplotlib 3.7 and will be removed in 3.11. Use ``matplotlib.colormaps[name]`` or ``matplotlib.colormaps.get_cmap()`` or ``pyplot.get_cmap()`` instead.\n",
            "  colors = plt.cm.get_cmap('tab10', len(df_results['Model'].unique())) # Get a colormap\n"
          ]
        },
        {
          "output_type": "display_data",
          "data": {
            "text/plain": [
              "<Figure size 1000x600 with 1 Axes>"
            ],
            "image/png": "[encoded data removed]"
          },
          "metadata": {}
        }
      ]
    },
    {
      "cell_type": "markdown",
      "source": [
        "#### CER vs models"
      ],
      "metadata": {
        "id": "Hg4iIAYdif_v"
      }
    },
    {
      "cell_type": "code",
      "metadata": {
        "id": "OMuSxPNWif_w",
        "colab": {
          "base_uri": "https://localhost:8080/",
          "height": 392
        },
        "outputId": "37dc0d7b-30f1-4aad-d374-5b30ef6d1f90"
      },
      "source": [
        "import matplotlib.pyplot as plt\n",
        "import pandas as pd\n",
        "\n",
        "# Calculate the average WER for each model\n",
        "avg_wer_per_model = df_results.groupby('Model')['CER'].mean().reset_index()\n",
        "\n",
        "# Create a bar chart of average WER per model using matplotlib\n",
        "plt.figure(figsize=(10, 6))\n",
        "plt.bar(avg_wer_per_model['Model'], avg_wer_per_model['CER'])\n",
        "plt.xlabel('Model')\n",
        "plt.ylabel('Average CER')\n",
        "plt.title('Average CER per Model')\n",
        "plt.xticks(rotation=45, ha='right') # Rotate x-axis labels for better readability\n",
        "plt.tight_layout() # Adjust layout to prevent labels overlapping\n",
        "plt.show()"
      ],
      "execution_count": null,
      "outputs": [
        {
          "output_type": "display_data",
          "data": {
            "text/plain": [
              "<Figure size 1000x600 with 1 Axes>"
            ],
            "image/png": "[encoded data removed]"
          },
          "metadata": {}
        }
      ]
    },
    {
      "cell_type": "markdown",
      "source": [
        "#### CER vs audio"
      ],
      "metadata": {
        "id": "XOY6cILrif_w"
      }
    },
    {
      "cell_type": "code",
      "source": [
        "import matplotlib.pyplot as plt\n",
        "import pandas as pd\n",
        "\n",
        "# Create a scatter plot of WER vs File, colored by Model using matplotlib\n",
        "plt.figure(figsize=(10, 6))\n",
        "colors = plt.cm.get_cmap('tab10', len(df_results['Model'].unique())) # Get a colormap\n",
        "for i, model_name in enumerate(df_results['Model'].unique()):\n",
        "    model_data = df_results[df_results['Model'] == model_name]\n",
        "    plt.scatter(model_data['File'], model_data['CER'], color=colors(i), label=model_name)\n",
        "\n",
        "plt.xlabel('Audio File')\n",
        "plt.ylabel('CER')\n",
        "plt.title('CER vs Audio File by Model')\n",
        "plt.xticks(rotation=45, ha='right') # Rotate x-axis labels for better readability\n",
        "plt.legend(title='Model')\n",
        "plt.tight_layout() # Adjust layout to prevent labels overlapping\n",
        "plt.show()"
      ],
      "metadata": {
        "colab": {
          "base_uri": "https://localhost:8080/",
          "height": 447
        },
        "id": "ZWKiBw1QPlLT",
        "outputId": "d75b32a6-d12c-4543-c4c0-240a61074896"
      },
      "execution_count": null,
      "outputs": [
        {
          "output_type": "stream",
          "name": "stderr",
          "text": [
            "/tmp/ipython-input-54-88840806.py:6: MatplotlibDeprecationWarning: The get_cmap function was deprecated in Matplotlib 3.7 and will be removed in 3.11. Use ``matplotlib.colormaps[name]`` or ``matplotlib.colormaps.get_cmap()`` or ``pyplot.get_cmap()`` instead.\n",
            "  colors = plt.cm.get_cmap('tab10', len(df_results['Model'].unique())) # Get a colormap\n"
          ]
        },
        {
          "output_type": "display_data",
          "data": {
            "text/plain": [
              "<Figure size 1000x600 with 1 Axes>"
            ],
            "image/png": "[encoded data removed]"
          },
          "metadata": {}
        }
      ]
    },
    {
      "cell_type": "markdown",
      "source": [
        "## Step 9: Download results"
      ],
      "metadata": {
        "id": "NliYf2ewy33J"
      }
    },
    {
      "cell_type": "code",
      "source": [
        "df_results.to_csv(\"Model0.csv\", index=False)\n",
        "files.download(\"Model0.csv\")\n"
      ],
      "metadata": {
        "id": "2X3UFyd0y3QP",
        "colab": {
          "base_uri": "https://localhost:8080/",
          "height": 17
        },
        "outputId": "16d67e22-9d84-4d78-d422-f20c9999106f"
      },
      "execution_count": null,
      "outputs": [
        {
          "output_type": "display_data",
          "data": {
            "text/plain": [
              "<IPython.core.display.Javascript object>"
            ],
            "application/javascript": [
              "\n",
              "    async function download(id, filename, size) {\n",
              "      if (!google.colab.kernel.accessAllowed) {\n",
              "        return;\n",
              "      }\n",
              "      const div = document.createElement('div');\n",
              "      const label = document.createElement('label');\n",
              "      label.textContent = `Downloading \"${filename}\": `;\n",
              "      div.appendChild(label);\n",
              "      const progress = document.createElement('progress');\n",
              "      progress.max = size;\n",
              "      div.appendChild(progress);\n",
              "      document.body.appendChild(div);\n",
              "\n",
              "      const buffers = [];\n",
              "      let downloaded = 0;\n",
              "\n",
              "      const channel = await google.colab.kernel.comms.open(id);\n",
              "      // Send a message to notify the kernel that we're ready.\n",
              "      channel.send({})\n",
              "\n",
              "      for await (const message of channel.messages) {\n",
              "        // Send a message to notify the kernel that we're ready.\n",
              "        channel.send({})\n",
              "        if (message.buffers) {\n",
              "          for (const buffer of message.buffers) {\n",
              "            buffers.push(buffer);\n",
              "            downloaded += buffer.byteLength;\n",
              "            progress.value = downloaded;\n",
              "          }\n",
              "        }\n",
              "      }\n",
              "      const blob = new Blob(buffers, {type: 'application/binary'});\n",
              "      const a = document.createElement('a');\n",
              "      a.href = window.URL.createObjectURL(blob);\n",
              "      a.download = filename;\n",
              "      div.appendChild(a);\n",
              "      a.click();\n",
              "      div.remove();\n",
              "    }\n",
              "  "
            ]
          },
          "metadata": {}
        },
        {
          "output_type": "display_data",
          "data": {
            "text/plain": [
              "<IPython.core.display.Javascript object>"
            ],
            "application/javascript": [
              "download(\"download_fbd2f4a4-ca01-4491-850e-9b2da20a2269\", \"Model0.csv\", 8123)"
            ]
          },
          "metadata": {}
        }
      ]
    },
    {
      "cell_type": "code",
      "source": [
        "import sqlite3\n",
        "\n",
        "# Create an in-memory SQLite database\n",
        "conn = sqlite3.connect('ai4bharat.sql')\n",
        "\n",
        "# Save the DataFrame to a SQL table\n",
        "df_results.to_sql('results', conn, index=False, if_exists='replace')\n",
        "\n",
        "# Close the connection\n",
        "conn.close()\n",
        "\n",
        "# Download the database file\n",
        "files.download(\"ai4bharat.sql\")"
      ],
      "metadata": {
        "colab": {
          "base_uri": "https://localhost:8080/",
          "height": 17
        },
        "id": "W5DJwl22Mttc",
        "outputId": "39a6b13b-38ce-4765-a0cf-6e6300fe76f4"
      },
      "execution_count": null,
      "outputs": [
        {
          "output_type": "display_data",
          "data": {
            "text/plain": [
              "<IPython.core.display.Javascript object>"
            ],
            "application/javascript": [
              "\n",
              "    async function download(id, filename, size) {\n",
              "      if (!google.colab.kernel.accessAllowed) {\n",
              "        return;\n",
              "      }\n",
              "      const div = document.createElement('div');\n",
              "      const label = document.createElement('label');\n",
              "      label.textContent = `Downloading \"${filename}\": `;\n",
              "      div.appendChild(label);\n",
              "      const progress = document.createElement('progress');\n",
              "      progress.max = size;\n",
              "      div.appendChild(progress);\n",
              "      document.body.appendChild(div);\n",
              "\n",
              "      const buffers = [];\n",
              "      let downloaded = 0;\n",
              "\n",
              "      const channel = await google.colab.kernel.comms.open(id);\n",
              "      // Send a message to notify the kernel that we're ready.\n",
              "      channel.send({})\n",
              "\n",
              "      for await (const message of channel.messages) {\n",
              "        // Send a message to notify the kernel that we're ready.\n",
              "        channel.send({})\n",
              "        if (message.buffers) {\n",
              "          for (const buffer of message.buffers) {\n",
              "            buffers.push(buffer);\n",
              "            downloaded += buffer.byteLength;\n",
              "            progress.value = downloaded;\n",
              "          }\n",
              "        }\n",
              "      }\n",
              "      const blob = new Blob(buffers, {type: 'application/binary'});\n",
              "      const a = document.createElement('a');\n",
              "      a.href = window.URL.createObjectURL(blob);\n",
              "      a.download = filename;\n",
              "      div.appendChild(a);\n",
              "      a.click();\n",
              "      div.remove();\n",
              "    }\n",
              "  "
            ]
          },
          "metadata": {}
        },
        {
          "output_type": "display_data",
          "data": {
            "text/plain": [
              "<IPython.core.display.Javascript object>"
            ],
            "application/javascript": [
              "download(\"download_e2f57bd9-55fb-4486-a2e7-dcb2ca55a75c\", \"ai4bharat.sql\", 20480)"
            ]
          },
          "metadata": {}
        }
      ]
    },
    {
      "cell_type": "markdown",
      "source": [
        "___"
      ],
      "metadata": {
        "id": "U3mW8TNjyZxD"
      }
    },
    {
      "cell_type": "markdown",
      "metadata": {
        "id": "8e692199"
      },
      "source": [
        "### Authenticate with Hugging Face\n",
        "\n",
        "If the model you are trying to load is private or gated, you will need to authenticate with your Hugging Face token.\n",
        "\n",
        "You can do this by adding your token to Colab's secrets manager (under the \"🔑\" icon in the left panel) with the name `HF_TOKEN`, and then running the following code cell:"
      ]
    },
    {
      "cell_type": "code",
      "metadata": {
        "colab": {
          "base_uri": "https://localhost:8080/"
        },
        "id": "091e7b3c",
        "outputId": "a00d964f-b850-4a53-ae8f-2a74124ceea3"
      },
      "source": [
        "from huggingface_hub import login\n",
        "from google.colab import userdata\n",
        "\n",
        "# Get the Hugging Face token from Colab's secrets manager\n",
        "hf_token = userdata.get('HF_TOKEN')\n",
        "\n",
        "# Log in to Hugging Face Hub\n",
        "if hf_token:\n",
        "    login(token=hf_token)\n",
        "    print(\"Successfully logged in to Hugging Face Hub.\")\n",
        "else:\n",
        "    print(\"Hugging Face token not found in Colab secrets. Please add it.\")"
      ],
      "execution_count": null,
      "outputs": [
        {
          "output_type": "stream",
          "name": "stdout",
          "text": [
            "Successfully logged in to Hugging Face Hub.\n"
          ]
        }
      ]
    },
    {
      "cell_type": "code",
      "metadata": {
        "id": "565f2c71"
      },
      "source": [
        "# Access all elements in the 'path' column\n",
        "all_paths = df['path']\n",
        "\n",
        "# Print the first few elements to verify\n",
        "print(all_paths.head())"
      ],
      "execution_count": null,
      "outputs": []
    },
    {
      "cell_type": "code",
      "source": [
        "!git clone https://github.com/ggerganov/whisper.cpp\n",
        "\n"
      ],
      "metadata": {
        "colab": {
          "base_uri": "https://localhost:8080/"
        },
        "id": "JoOn6aAamVfG",
        "outputId": "0458f5ae-855f-4b1c-ff9c-0e84b74ea1b8"
      },
      "execution_count": null,
      "outputs": [
        {
          "output_type": "stream",
          "name": "stdout",
          "text": [
            "Cloning into 'whisper.cpp'...\n",
            "remote: Enumerating objects: 21605, done.\u001b[K\n",
            "remote: Counting objects: 100% (755/755), done.\u001b[K\n",
            "remote: Compressing objects: 100% (273/273), done.\u001b[K\n",
            "remote: Total 21605 (delta 569), reused 482 (delta 482), pack-reused 20850 (from 4)\u001b[K\n",
            "Receiving objects: 100% (21605/21605), 25.27 MiB | 21.42 MiB/s, done.\n",
            "Resolving deltas: 100% (15073/15073), done.\n"
          ]
        }
      ]
    },
    {
      "cell_type": "code",
      "source": [
        "%cd whisper.cpp"
      ],
      "metadata": {
        "colab": {
          "base_uri": "https://localhost:8080/"
        },
        "id": "_zM8nZ-zm-WP",
        "outputId": "564f4127-07a6-4ebd-c2da-c1717c728fac"
      },
      "execution_count": null,
      "outputs": [
        {
          "output_type": "stream",
          "name": "stdout",
          "text": [
            "/content/whisper.cpp\n"
          ]
        }
      ]
    },
    {
      "cell_type": "code",
      "source": [
        "!make"
      ],
      "metadata": {
        "colab": {
          "base_uri": "https://localhost:8080/"
        },
        "id": "-gBEaBNVm1s-",
        "outputId": "fdef18a3-0f6b-4fc6-ebac-2f0eeaf4762f"
      },
      "execution_count": null,
      "outputs": [
        {
          "output_type": "stream",
          "name": "stdout",
          "text": [
            "cmake -B build \n",
            "\u001b[0mCMake Deprecation Warning at CMakeLists.txt:1 (cmake_minimum_required):\n",
            "  Compatibility with CMake < 3.10 will be removed from a future version of\n",
            "  CMake.\n",
            "\n",
            "  Update the VERSION argument <min> value.  Or, use the <min>...<max> syntax\n",
            "  to tell CMake that the project requires at least <min> but has been updated\n",
            "  to work with policies introduced by <max> or earlier.\n",
            "\n",
            "\u001b[0m\n",
            "-- The C compiler identification is GNU 11.4.0\n",
            "-- The CXX compiler identification is GNU 11.4.0\n",
            "-- Detecting C compiler ABI info\n",
            "-- Detecting C compiler ABI info - done\n",
            "-- Check for working C compiler: /usr/bin/cc - skipped\n",
            "-- Detecting C compile features\n",
            "-- Detecting C compile features - done\n",
            "-- Detecting CXX compiler ABI info\n",
            "-- Detecting CXX compiler ABI info - done\n",
            "-- Check for working CXX compiler: /usr/bin/c++ - skipped\n",
            "-- Detecting CXX compile features\n",
            "-- Detecting CXX compile features - done\n",
            "-- Found Git: /usr/bin/git (found version \"2.34.1\")\n",
            "-- Performing Test CMAKE_HAVE_LIBC_PTHREAD\n",
            "-- Performing Test CMAKE_HAVE_LIBC_PTHREAD - Success\n",
            "-- Found Threads: TRUE\n",
            "-- Warning: ccache not found - consider installing it for faster compilation or disable this warning with GGML_CCACHE=OFF\n",
            "-- CMAKE_SYSTEM_PROCESSOR: x86_64\n",
            "-- GGML_SYSTEM_ARCH: x86\n",
            "-- Including CPU backend\n",
            "-- Found OpenMP_C: -fopenmp (found version \"4.5\")\n",
            "-- Found OpenMP_CXX: -fopenmp (found version \"4.5\")\n",
            "-- Found OpenMP: TRUE (found version \"4.5\")\n",
            "-- x86 detected\n",
            "-- Adding CPU backend variant ggml-cpu: -march=native \n",
            "-- ggml version: 0.0.2906\n",
            "-- ggml commit:  032697b9\n",
            "-- Configuring done (1.7s)\n",
            "-- Generating done (0.1s)\n",
            "-- Build files have been written to: /content/whisper.cpp/build\n",
            "cmake --build build --config Release\n",
            "gmake[1]: Entering directory '/content/whisper.cpp/build'\n",
            "gmake[2]: Entering directory '/content/whisper.cpp/build'\n",
            "gmake[3]: Entering directory '/content/whisper.cpp/build'\n",
            "gmake[3]: Leaving directory '/content/whisper.cpp/build'\n",
            "gmake[3]: Entering directory '/content/whisper.cpp/build'\n",
            "[  1%] \u001b[32mBuilding C object ggml/src/CMakeFiles/ggml-base.dir/ggml.c.o\u001b[0m\n",
            "[  3%] \u001b[32mBuilding CXX object ggml/src/CMakeFiles/ggml-base.dir/ggml.cpp.o\u001b[0m\n",
            "[  5%] \u001b[32mBuilding C object ggml/src/CMakeFiles/ggml-base.dir/ggml-alloc.c.o\u001b[0m\n",
            "[  7%] \u001b[32mBuilding CXX object ggml/src/CMakeFiles/ggml-base.dir/ggml-backend.cpp.o\u001b[0m\n",
            "[  9%] \u001b[32mBuilding CXX object ggml/src/CMakeFiles/ggml-base.dir/ggml-opt.cpp.o\u001b[0m\n",
            "[ 11%] \u001b[32mBuilding CXX object ggml/src/CMakeFiles/ggml-base.dir/ggml-threading.cpp.o\u001b[0m\n",
            "[ 13%] \u001b[32mBuilding C object ggml/src/CMakeFiles/ggml-base.dir/ggml-quants.c.o\u001b[0m\n",
            "[ 15%] \u001b[32mBuilding CXX object ggml/src/CMakeFiles/ggml-base.dir/gguf.cpp.o\u001b[0m\n",
            "[ 17%] \u001b[32m\u001b[1mLinking CXX shared library libggml-base.so\u001b[0m\n",
            "gmake[3]: Leaving directory '/content/whisper.cpp/build'\n",
            "[ 17%] Built target ggml-base\n",
            "gmake[3]: Entering directory '/content/whisper.cpp/build'\n",
            "gmake[3]: Leaving directory '/content/whisper.cpp/build'\n",
            "gmake[3]: Entering directory '/content/whisper.cpp/build'\n",
            "[ 19%] \u001b[32mBuilding C object ggml/src/CMakeFiles/ggml-cpu.dir/ggml-cpu/ggml-cpu.c.o\u001b[0m\n",
            "[ 21%] \u001b[32mBuilding CXX object ggml/src/CMakeFiles/ggml-cpu.dir/ggml-cpu/ggml-cpu.cpp.o\u001b[0m\n",
            "[ 23%] \u001b[32mBuilding CXX object ggml/src/CMakeFiles/ggml-cpu.dir/ggml-cpu/repack.cpp.o\u001b[0m\n",
            "[ 25%] \u001b[32mBuilding CXX object ggml/src/CMakeFiles/ggml-cpu.dir/ggml-cpu/hbm.cpp.o\u001b[0m\n",
            "[ 27%] \u001b[32mBuilding C object ggml/src/CMakeFiles/ggml-cpu.dir/ggml-cpu/quants.c.o\u001b[0m\n",
            "[ 29%] \u001b[32mBuilding CXX object ggml/src/CMakeFiles/ggml-cpu.dir/ggml-cpu/traits.cpp.o\u001b[0m\n",
            "[ 31%] \u001b[32mBuilding CXX object ggml/src/CMakeFiles/ggml-cpu.dir/ggml-cpu/amx/amx.cpp.o\u001b[0m\n",
            "[ 33%] \u001b[32mBuilding CXX object ggml/src/CMakeFiles/ggml-cpu.dir/ggml-cpu/amx/mmq.cpp.o\u001b[0m\n",
            "[ 35%] \u001b[32mBuilding CXX object ggml/src/CMakeFiles/ggml-cpu.dir/ggml-cpu/binary-ops.cpp.o\u001b[0m\n",
            "[ 37%] \u001b[32mBuilding CXX object ggml/src/CMakeFiles/ggml-cpu.dir/ggml-cpu/unary-ops.cpp.o\u001b[0m\n",
            "[ 39%] \u001b[32mBuilding CXX object ggml/src/CMakeFiles/ggml-cpu.dir/ggml-cpu/vec.cpp.o\u001b[0m\n",
            "[ 41%] \u001b[32mBuilding CXX object ggml/src/CMakeFiles/ggml-cpu.dir/ggml-cpu/ops.cpp.o\u001b[0m\n",
            "[ 43%] \u001b[32mBuilding C object ggml/src/CMakeFiles/ggml-cpu.dir/ggml-cpu/arch/x86/quants.c.o\u001b[0m\n",
            "[ 45%] \u001b[32mBuilding CXX object ggml/src/CMakeFiles/ggml-cpu.dir/ggml-cpu/arch/x86/repack.cpp.o\u001b[0m\n",
            "[ 47%] \u001b[32m\u001b[1mLinking CXX shared library libggml-cpu.so\u001b[0m\n",
            "gmake[3]: Leaving directory '/content/whisper.cpp/build'\n",
            "[ 47%] Built target ggml-cpu\n",
            "gmake[3]: Entering directory '/content/whisper.cpp/build'\n",
            "gmake[3]: Leaving directory '/content/whisper.cpp/build'\n",
            "gmake[3]: Entering directory '/content/whisper.cpp/build'\n",
            "[ 49%] \u001b[32mBuilding CXX object ggml/src/CMakeFiles/ggml.dir/ggml-backend-reg.cpp.o\u001b[0m\n",
            "[ 50%] \u001b[32m\u001b[1mLinking CXX shared library libggml.so\u001b[0m\n",
            "gmake[3]: Leaving directory '/content/whisper.cpp/build'\n",
            "[ 50%] Built target ggml\n",
            "gmake[3]: Entering directory '/content/whisper.cpp/build'\n",
            "gmake[3]: Leaving directory '/content/whisper.cpp/build'\n",
            "gmake[3]: Entering directory '/content/whisper.cpp/build'\n",
            "[ 52%] \u001b[32mBuilding CXX object src/CMakeFiles/whisper.dir/whisper.cpp.o\u001b[0m\n",
            "[ 54%] \u001b[32m\u001b[1mLinking CXX shared library libwhisper.so\u001b[0m\n",
            "gmake[3]: Leaving directory '/content/whisper.cpp/build'\n",
            "[ 54%] Built target whisper\n",
            "gmake[3]: Entering directory '/content/whisper.cpp/build'\n",
            "gmake[3]: Leaving directory '/content/whisper.cpp/build'\n",
            "gmake[3]: Entering directory '/content/whisper.cpp/build'\n",
            "[ 56%] \u001b[32mBuilding CXX object examples/CMakeFiles/common.dir/common.cpp.o\u001b[0m\n",
            "[ 58%] \u001b[32mBuilding CXX object examples/CMakeFiles/common.dir/common-ggml.cpp.o\u001b[0m\n",
            "[ 60%] \u001b[32mBuilding CXX object examples/CMakeFiles/common.dir/common-whisper.cpp.o\u001b[0m\n",
            "[ 62%] \u001b[32mBuilding CXX object examples/CMakeFiles/common.dir/grammar-parser.cpp.o\u001b[0m\n",
            "[ 64%] \u001b[32m\u001b[1mLinking CXX static library libcommon.a\u001b[0m\n",
            "gmake[3]: Leaving directory '/content/whisper.cpp/build'\n",
            "[ 64%] Built target common\n",
            "gmake[3]: Entering directory '/content/whisper.cpp/build'\n",
            "gmake[3]: Leaving directory '/content/whisper.cpp/build'\n",
            "gmake[3]: Entering directory '/content/whisper.cpp/build'\n",
            "[ 66%] \u001b[32mBuilding CXX object tests/CMakeFiles/test-vad.dir/test-vad.cpp.o\u001b[0m\n",
            "[ 68%] \u001b[32m\u001b[1mLinking CXX executable ../bin/test-vad\u001b[0m\n",
            "gmake[3]: Leaving directory '/content/whisper.cpp/build'\n",
            "[ 68%] Built target test-vad\n",
            "gmake[3]: Entering directory '/content/whisper.cpp/build'\n",
            "gmake[3]: Leaving directory '/content/whisper.cpp/build'\n",
            "gmake[3]: Entering directory '/content/whisper.cpp/build'\n",
            "[ 70%] \u001b[32mBuilding CXX object tests/CMakeFiles/test-vad-full.dir/test-vad-full.cpp.o\u001b[0m\n",
            "[ 72%] \u001b[32m\u001b[1mLinking CXX executable ../bin/test-vad-full\u001b[0m\n",
            "gmake[3]: Leaving directory '/content/whisper.cpp/build'\n",
            "[ 72%] Built target test-vad-full\n",
            "gmake[3]: Entering directory '/content/whisper.cpp/build'\n",
            "gmake[3]: Leaving directory '/content/whisper.cpp/build'\n",
            "gmake[3]: Entering directory '/content/whisper.cpp/build'\n",
            "[ 74%] \u001b[32mBuilding CXX object examples/cli/CMakeFiles/whisper-cli.dir/cli.cpp.o\u001b[0m\n",
            "[ 76%] \u001b[32m\u001b[1mLinking CXX executable ../../bin/whisper-cli\u001b[0m\n",
            "gmake[3]: Leaving directory '/content/whisper.cpp/build'\n",
            "[ 76%] Built target whisper-cli\n",
            "gmake[3]: Entering directory '/content/whisper.cpp/build'\n",
            "gmake[3]: Leaving directory '/content/whisper.cpp/build'\n",
            "gmake[3]: Entering directory '/content/whisper.cpp/build'\n",
            "[ 78%] \u001b[32mBuilding CXX object examples/bench/CMakeFiles/whisper-bench.dir/bench.cpp.o\u001b[0m\n",
            "[ 80%] \u001b[32m\u001b[1mLinking CXX executable ../../bin/whisper-bench\u001b[0m\n",
            "gmake[3]: Leaving directory '/content/whisper.cpp/build'\n",
            "[ 80%] Built target whisper-bench\n",
            "gmake[3]: Entering directory '/content/whisper.cpp/build'\n",
            "gmake[3]: Leaving directory '/content/whisper.cpp/build'\n",
            "gmake[3]: Entering directory '/content/whisper.cpp/build'\n",
            "[ 82%] \u001b[32mBuilding CXX object examples/server/CMakeFiles/whisper-server.dir/server.cpp.o\u001b[0m\n",
            "[ 84%] \u001b[32m\u001b[1mLinking CXX executable ../../bin/whisper-server\u001b[0m\n",
            "gmake[3]: Leaving directory '/content/whisper.cpp/build'\n",
            "[ 84%] Built target whisper-server\n",
            "gmake[3]: Entering directory '/content/whisper.cpp/build'\n",
            "gmake[3]: Leaving directory '/content/whisper.cpp/build'\n",
            "gmake[3]: Entering directory '/content/whisper.cpp/build'\n",
            "[ 86%] \u001b[32mBuilding CXX object examples/quantize/CMakeFiles/quantize.dir/quantize.cpp.o\u001b[0m\n",
            "[ 88%] \u001b[32m\u001b[1mLinking CXX executable ../../bin/quantize\u001b[0m\n",
            "gmake[3]: Leaving directory '/content/whisper.cpp/build'\n",
            "[ 88%] Built target quantize\n",
            "gmake[3]: Entering directory '/content/whisper.cpp/build'\n",
            "gmake[3]: Leaving directory '/content/whisper.cpp/build'\n",
            "gmake[3]: Entering directory '/content/whisper.cpp/build'\n",
            "[ 90%] \u001b[32mBuilding CXX object examples/vad-speech-segments/CMakeFiles/vad-speech-segments.dir/speech.cpp.o\u001b[0m\n",
            "[ 92%] \u001b[32m\u001b[1mLinking CXX executable ../../bin/vad-speech-segments\u001b[0m\n",
            "gmake[3]: Leaving directory '/content/whisper.cpp/build'\n",
            "[ 92%] Built target vad-speech-segments\n",
            "gmake[3]: Entering directory '/content/whisper.cpp/build'\n",
            "gmake[3]: Leaving directory '/content/whisper.cpp/build'\n",
            "gmake[3]: Entering directory '/content/whisper.cpp/build'\n",
            "[ 94%] \u001b[32mBuilding CXX object examples/deprecation-warning/CMakeFiles/main.dir/deprecation-warning.cpp.o\u001b[0m\n",
            "[ 96%] \u001b[32m\u001b[1mLinking CXX executable ../../bin/main\u001b[0m\n",
            "gmake[3]: Leaving directory '/content/whisper.cpp/build'\n",
            "[ 96%] Built target main\n",
            "gmake[3]: Entering directory '/content/whisper.cpp/build'\n",
            "gmake[3]: Leaving directory '/content/whisper.cpp/build'\n",
            "gmake[3]: Entering directory '/content/whisper.cpp/build'\n",
            "[ 98%] \u001b[32mBuilding CXX object examples/deprecation-warning/CMakeFiles/bench.dir/deprecation-warning.cpp.o\u001b[0m\n",
            "[100%] \u001b[32m\u001b[1mLinking CXX executable ../../bin/bench\u001b[0m\n",
            "gmake[3]: Leaving directory '/content/whisper.cpp/build'\n",
            "[100%] Built target bench\n",
            "gmake[2]: Leaving directory '/content/whisper.cpp/build'\n",
            "gmake[1]: Leaving directory '/content/whisper.cpp/build'\n"
          ]
        }
      ]
    },
    {
      "cell_type": "code",
      "source": [
        "!mkdir -p models"
      ],
      "metadata": {
        "id": "OHzAy9Odnjdm"
      },
      "execution_count": null,
      "outputs": []
    },
    {
      "cell_type": "code",
      "source": [
        "%cd .."
      ],
      "metadata": {
        "colab": {
          "base_uri": "https://localhost:8080/"
        },
        "id": "w8odXZC9nzRr",
        "outputId": "b9b5b8c6-cea2-46c0-c676-0c5646f79c04"
      },
      "execution_count": null,
      "outputs": [
        {
          "output_type": "stream",
          "name": "stdout",
          "text": [
            "/content\n"
          ]
        }
      ]
    },
    {
      "cell_type": "code",
      "source": [
        "!mv whisper-large-v3-q8_0.gguf whisper.cpp/models/"
      ],
      "metadata": {
        "id": "xn_2WfL2nltH"
      },
      "execution_count": null,
      "outputs": []
    },
    {
      "cell_type": "code",
      "source": [
        "%cd ..\n"
      ],
      "metadata": {
        "colab": {
          "base_uri": "https://localhost:8080/"
        },
        "id": "7NG15CK-n6Hi",
        "outputId": "f9730540-b0d6-4e71-e21d-2f2d5b7786c7"
      },
      "execution_count": null,
      "outputs": [
        {
          "output_type": "stream",
          "name": "stdout",
          "text": [
            "/\n"
          ]
        }
      ]
    },
    {
      "cell_type": "code",
      "source": [
        "%cd content"
      ],
      "metadata": {
        "colab": {
          "base_uri": "https://localhost:8080/"
        },
        "id": "mcc7mvvHoKMM",
        "outputId": "563b203d-2f24-4dbf-f78b-a2691e6d687f"
      },
      "execution_count": null,
      "outputs": [
        {
          "output_type": "stream",
          "name": "stdout",
          "text": [
            "/content\n"
          ]
        }
      ]
    }
  ]
}